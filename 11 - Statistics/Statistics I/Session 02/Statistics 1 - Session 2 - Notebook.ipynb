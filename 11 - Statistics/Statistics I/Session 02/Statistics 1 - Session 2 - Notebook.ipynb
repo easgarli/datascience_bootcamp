{
 "cells": [
  {
   "cell_type": "markdown",
   "id": "43f60e24",
   "metadata": {},
   "source": [
    " # Statistics 1 - Sessin 2 - Notebook"
   ]
  },
  {
   "cell_type": "code",
   "execution_count": 1,
   "id": "d8735c15",
   "metadata": {},
   "outputs": [],
   "source": [
    "import pandas as pd              # for Pandas\n",
    "import numpy as np               # for NumpPy\n",
    "import matplotlib.pyplot as plt  # for Matplotlib\n",
    "import seaborn as sns            # For Seaborn"
   ]
  },
  {
   "cell_type": "markdown",
   "id": "d4c972c6",
   "metadata": {},
   "source": [
    "# Read Data from Excel"
   ]
  },
  {
   "cell_type": "code",
   "execution_count": 2,
   "id": "29c7fcee",
   "metadata": {},
   "outputs": [
    {
     "data": {
      "text/html": [
       "<div>\n",
       "<style scoped>\n",
       "    .dataframe tbody tr th:only-of-type {\n",
       "        vertical-align: middle;\n",
       "    }\n",
       "\n",
       "    .dataframe tbody tr th {\n",
       "        vertical-align: top;\n",
       "    }\n",
       "\n",
       "    .dataframe thead th {\n",
       "        text-align: right;\n",
       "    }\n",
       "</style>\n",
       "<table border=\"1\" class=\"dataframe\">\n",
       "  <thead>\n",
       "    <tr style=\"text-align: right;\">\n",
       "      <th></th>\n",
       "      <th>ID</th>\n",
       "      <th>price</th>\n",
       "      <th>vintage</th>\n",
       "      <th>wine_score</th>\n",
       "      <th>country_of_origin</th>\n",
       "      <th>positive</th>\n",
       "      <th>negative</th>\n",
       "      <th>age_of_wine</th>\n",
       "    </tr>\n",
       "  </thead>\n",
       "  <tbody>\n",
       "    <tr>\n",
       "      <th>0</th>\n",
       "      <td>101</td>\n",
       "      <td>15.5</td>\n",
       "      <td>2011</td>\n",
       "      <td>87.0</td>\n",
       "      <td>Spain</td>\n",
       "      <td>2</td>\n",
       "      <td>0</td>\n",
       "      <td>13</td>\n",
       "    </tr>\n",
       "    <tr>\n",
       "      <th>1</th>\n",
       "      <td>102</td>\n",
       "      <td>24.0</td>\n",
       "      <td>2012</td>\n",
       "      <td>87.0</td>\n",
       "      <td>France</td>\n",
       "      <td>1</td>\n",
       "      <td>-1</td>\n",
       "      <td>12</td>\n",
       "    </tr>\n",
       "    <tr>\n",
       "      <th>2</th>\n",
       "      <td>103</td>\n",
       "      <td>27.0</td>\n",
       "      <td>2012</td>\n",
       "      <td>87.0</td>\n",
       "      <td>France</td>\n",
       "      <td>4</td>\n",
       "      <td>-1</td>\n",
       "      <td>12</td>\n",
       "    </tr>\n",
       "    <tr>\n",
       "      <th>3</th>\n",
       "      <td>104</td>\n",
       "      <td>30.0</td>\n",
       "      <td>2012</td>\n",
       "      <td>NaN</td>\n",
       "      <td>NaN</td>\n",
       "      <td>1</td>\n",
       "      <td>-1</td>\n",
       "      <td>12</td>\n",
       "    </tr>\n",
       "    <tr>\n",
       "      <th>4</th>\n",
       "      <td>105</td>\n",
       "      <td>28.0</td>\n",
       "      <td>2010</td>\n",
       "      <td>87.0</td>\n",
       "      <td>Spain</td>\n",
       "      <td>0</td>\n",
       "      <td>0</td>\n",
       "      <td>14</td>\n",
       "    </tr>\n",
       "  </tbody>\n",
       "</table>\n",
       "</div>"
      ],
      "text/plain": [
       "    ID  price  vintage  wine_score country_of_origin  positive  negative  \\\n",
       "0  101   15.5     2011        87.0             Spain         2         0   \n",
       "1  102   24.0     2012        87.0            France         1        -1   \n",
       "2  103   27.0     2012        87.0            France         4        -1   \n",
       "3  104   30.0     2012         NaN               NaN         1        -1   \n",
       "4  105   28.0     2010        87.0             Spain         0         0   \n",
       "\n",
       "   age_of_wine  \n",
       "0           13  \n",
       "1           12  \n",
       "2           12  \n",
       "3           12  \n",
       "4           14  "
      ]
     },
     "execution_count": 2,
     "metadata": {},
     "output_type": "execute_result"
    }
   ],
   "source": [
    "df = pd.read_excel('Data_Statistics_Practice.xlsx')\n",
    "df.head(5)"
   ]
  },
  {
   "cell_type": "markdown",
   "id": "21b4a478",
   "metadata": {},
   "source": [
    "# Info"
   ]
  },
  {
   "cell_type": "code",
   "execution_count": 3,
   "id": "f2bcc0f7",
   "metadata": {},
   "outputs": [
    {
     "name": "stdout",
     "output_type": "stream",
     "text": [
      "<class 'pandas.core.frame.DataFrame'>\n",
      "RangeIndex: 21409 entries, 0 to 21408\n",
      "Data columns (total 8 columns):\n",
      " #   Column             Non-Null Count  Dtype  \n",
      "---  ------             --------------  -----  \n",
      " 0   ID                 21409 non-null  int64  \n",
      " 1   price              21409 non-null  float64\n",
      " 2   vintage            21409 non-null  int64  \n",
      " 3   wine_score         21408 non-null  float64\n",
      " 4   country_of_origin  21408 non-null  object \n",
      " 5   positive           21409 non-null  int64  \n",
      " 6   negative           21409 non-null  int64  \n",
      " 7   age_of_wine        21409 non-null  int64  \n",
      "dtypes: float64(2), int64(5), object(1)\n",
      "memory usage: 1.3+ MB\n"
     ]
    }
   ],
   "source": [
    "df.info()"
   ]
  },
  {
   "cell_type": "markdown",
   "id": "cac577c0",
   "metadata": {},
   "source": [
    "**NOTE:** Price is float (and numerical), country is categorical, other data integer (and numerical)."
   ]
  },
  {
   "cell_type": "markdown",
   "id": "aa0f4751",
   "metadata": {},
   "source": [
    "# Null Value Check"
   ]
  },
  {
   "cell_type": "code",
   "execution_count": 4,
   "id": "7e443fa7",
   "metadata": {},
   "outputs": [
    {
     "data": {
      "text/plain": [
       "ID                   0\n",
       "price                0\n",
       "vintage              0\n",
       "wine_score           1\n",
       "country_of_origin    1\n",
       "positive             0\n",
       "negative             0\n",
       "age_of_wine          0\n",
       "dtype: int64"
      ]
     },
     "execution_count": 4,
     "metadata": {},
     "output_type": "execute_result"
    }
   ],
   "source": [
    "df.isnull().sum()"
   ]
  },
  {
   "cell_type": "markdown",
   "id": "131aad9b",
   "metadata": {},
   "source": [
    "* There are 2 missing value (**null** value). \n",
    "\n",
    "* \"**wine_score**\" is **numeric**, \"**country_of_origin**\" is **categorical**."
   ]
  },
  {
   "cell_type": "markdown",
   "id": "562aa3a7",
   "metadata": {},
   "source": [
    "# Handling with Null Values"
   ]
  },
  {
   "cell_type": "code",
   "execution_count": 5,
   "id": "b8d709f4",
   "metadata": {},
   "outputs": [],
   "source": [
    "# Since \"wine_score\" is numeric, we can use \"mean\" for fill the null value.\n",
    "\n",
    "df[\"wine_score\"].fillna(df[\"wine_score\"].mean(), inplace = True)"
   ]
  },
  {
   "cell_type": "code",
   "execution_count": 6,
   "id": "6f196e21",
   "metadata": {},
   "outputs": [
    {
     "data": {
      "text/html": [
       "<div>\n",
       "<style scoped>\n",
       "    .dataframe tbody tr th:only-of-type {\n",
       "        vertical-align: middle;\n",
       "    }\n",
       "\n",
       "    .dataframe tbody tr th {\n",
       "        vertical-align: top;\n",
       "    }\n",
       "\n",
       "    .dataframe thead th {\n",
       "        text-align: right;\n",
       "    }\n",
       "</style>\n",
       "<table border=\"1\" class=\"dataframe\">\n",
       "  <thead>\n",
       "    <tr style=\"text-align: right;\">\n",
       "      <th></th>\n",
       "      <th>ID</th>\n",
       "      <th>price</th>\n",
       "      <th>vintage</th>\n",
       "      <th>wine_score</th>\n",
       "      <th>country_of_origin</th>\n",
       "      <th>positive</th>\n",
       "      <th>negative</th>\n",
       "      <th>age_of_wine</th>\n",
       "    </tr>\n",
       "  </thead>\n",
       "  <tbody>\n",
       "    <tr>\n",
       "      <th>0</th>\n",
       "      <td>101</td>\n",
       "      <td>15.5</td>\n",
       "      <td>2011</td>\n",
       "      <td>87.00000</td>\n",
       "      <td>Spain</td>\n",
       "      <td>2</td>\n",
       "      <td>0</td>\n",
       "      <td>13</td>\n",
       "    </tr>\n",
       "    <tr>\n",
       "      <th>1</th>\n",
       "      <td>102</td>\n",
       "      <td>24.0</td>\n",
       "      <td>2012</td>\n",
       "      <td>87.00000</td>\n",
       "      <td>France</td>\n",
       "      <td>1</td>\n",
       "      <td>-1</td>\n",
       "      <td>12</td>\n",
       "    </tr>\n",
       "    <tr>\n",
       "      <th>2</th>\n",
       "      <td>103</td>\n",
       "      <td>27.0</td>\n",
       "      <td>2012</td>\n",
       "      <td>87.00000</td>\n",
       "      <td>France</td>\n",
       "      <td>4</td>\n",
       "      <td>-1</td>\n",
       "      <td>12</td>\n",
       "    </tr>\n",
       "    <tr>\n",
       "      <th>3</th>\n",
       "      <td>104</td>\n",
       "      <td>30.0</td>\n",
       "      <td>2012</td>\n",
       "      <td>88.34034</td>\n",
       "      <td>France</td>\n",
       "      <td>1</td>\n",
       "      <td>-1</td>\n",
       "      <td>12</td>\n",
       "    </tr>\n",
       "    <tr>\n",
       "      <th>4</th>\n",
       "      <td>105</td>\n",
       "      <td>28.0</td>\n",
       "      <td>2010</td>\n",
       "      <td>87.00000</td>\n",
       "      <td>Spain</td>\n",
       "      <td>0</td>\n",
       "      <td>0</td>\n",
       "      <td>14</td>\n",
       "    </tr>\n",
       "  </tbody>\n",
       "</table>\n",
       "</div>"
      ],
      "text/plain": [
       "    ID  price  vintage  wine_score country_of_origin  positive  negative  \\\n",
       "0  101   15.5     2011    87.00000             Spain         2         0   \n",
       "1  102   24.0     2012    87.00000            France         1        -1   \n",
       "2  103   27.0     2012    87.00000            France         4        -1   \n",
       "3  104   30.0     2012    88.34034            France         1        -1   \n",
       "4  105   28.0     2010    87.00000             Spain         0         0   \n",
       "\n",
       "   age_of_wine  \n",
       "0           13  \n",
       "1           12  \n",
       "2           12  \n",
       "3           12  \n",
       "4           14  "
      ]
     },
     "execution_count": 6,
     "metadata": {},
     "output_type": "execute_result"
    }
   ],
   "source": [
    "# Since \"country_of_origin\" is categorical, we can use \"mode\" for fill the null value.\n",
    "\n",
    "df[\"country_of_origin\"].fillna(df[\"country_of_origin\"].mode().iloc[0], inplace = True)\n",
    "\n",
    "df.head(5)"
   ]
  },
  {
   "cell_type": "code",
   "execution_count": 7,
   "id": "09981b0a",
   "metadata": {},
   "outputs": [
    {
     "data": {
      "text/plain": [
       "ID                   0\n",
       "price                0\n",
       "vintage              0\n",
       "wine_score           0\n",
       "country_of_origin    0\n",
       "positive             0\n",
       "negative             0\n",
       "age_of_wine          0\n",
       "dtype: int64"
      ]
     },
     "execution_count": 7,
     "metadata": {},
     "output_type": "execute_result"
    }
   ],
   "source": [
    "# Null value check\n",
    "\n",
    "df.isnull().sum()"
   ]
  },
  {
   "cell_type": "markdown",
   "id": "813659cd",
   "metadata": {},
   "source": [
    "**NOTE:** There isn't any null value now."
   ]
  },
  {
   "cell_type": "markdown",
   "id": "ea3f27b1",
   "metadata": {},
   "source": [
    "# Dispersion of Data"
   ]
  },
  {
   "cell_type": "markdown",
   "id": "77780609",
   "metadata": {},
   "source": [
    "## KDE Displot (Distribution Plot) "
   ]
  },
  {
   "cell_type": "code",
   "execution_count": 8,
   "id": "0d63e8b1",
   "metadata": {},
   "outputs": [
    {
     "name": "stderr",
     "output_type": "stream",
     "text": [
      "/home/elnur/anaconda3/lib/python3.11/site-packages/seaborn/_oldcore.py:1119: FutureWarning: use_inf_as_na option is deprecated and will be removed in a future version. Convert inf values to NaN before operating instead.\n",
      "  with pd.option_context('mode.use_inf_as_na', True):\n"
     ]
    },
    {
     "data": {
      "image/png": "[encoded data removed]",
      "text/plain": [
       "<Figure size 400x200 with 1 Axes>"
      ]
     },
     "metadata": {},
     "output_type": "display_data"
    }
   ],
   "source": [
    "# Price\n",
    "plt.figure(figsize=(4,2))\n",
    "sns.kdeplot(data = df, x = \"price\", fill = True, linewidth = 2)\n",
    "plt.show()"
   ]
  },
  {
   "cell_type": "code",
   "execution_count": 9,
   "id": "e68f2c9c",
   "metadata": {},
   "outputs": [
    {
     "name": "stderr",
     "output_type": "stream",
     "text": [
      "/home/elnur/anaconda3/lib/python3.11/site-packages/seaborn/_oldcore.py:1119: FutureWarning: use_inf_as_na option is deprecated and will be removed in a future version. Convert inf values to NaN before operating instead.\n",
      "  with pd.option_context('mode.use_inf_as_na', True):\n"
     ]
    },
    {
     "data": {
      "image/png": "[encoded data removed]",
      "text/plain": [
       "<Figure size 400x200 with 1 Axes>"
      ]
     },
     "metadata": {},
     "output_type": "display_data"
    }
   ],
   "source": [
    "# wine_score\n",
    "plt.figure(figsize=(4,2))\n",
    "sns.kdeplot(data = df, x = \"wine_score\", fill = True, linewidth = 2)\n",
    "plt.show()"
   ]
  },
  {
   "cell_type": "code",
   "execution_count": 10,
   "id": "83b0a76d",
   "metadata": {},
   "outputs": [
    {
     "name": "stderr",
     "output_type": "stream",
     "text": [
      "/home/elnur/anaconda3/lib/python3.11/site-packages/seaborn/_oldcore.py:1119: FutureWarning: use_inf_as_na option is deprecated and will be removed in a future version. Convert inf values to NaN before operating instead.\n",
      "  with pd.option_context('mode.use_inf_as_na', True):\n"
     ]
    },
    {
     "data": {
      "image/png": "[encoded data removed]",
      "text/plain": [
       "<Figure size 400x200 with 1 Axes>"
      ]
     },
     "metadata": {},
     "output_type": "display_data"
    }
   ],
   "source": [
    "# age_of_wine\n",
    "plt.figure(figsize=(4,2))\n",
    "sns.kdeplot(data = df, x = \"age_of_wine\", fill = True, linewidth = 2)\n",
    "plt.show()"
   ]
  },
  {
   "cell_type": "markdown",
   "id": "9dbc1ac0",
   "metadata": {},
   "source": [
    "## Displot (Distribution Plot)  = KDE Displot"
   ]
  },
  {
   "cell_type": "code",
   "execution_count": 11,
   "id": "fc1d9b2b",
   "metadata": {},
   "outputs": [
    {
     "name": "stderr",
     "output_type": "stream",
     "text": [
      "/home/elnur/anaconda3/lib/python3.11/site-packages/seaborn/_oldcore.py:1119: FutureWarning: use_inf_as_na option is deprecated and will be removed in a future version. Convert inf values to NaN before operating instead.\n",
      "  with pd.option_context('mode.use_inf_as_na', True):\n"
     ]
    },
    {
     "data": {
      "image/png": "[encoded data removed]",
      "text/plain": [
       "<Figure size 350x200 with 1 Axes>"
      ]
     },
     "metadata": {},
     "output_type": "display_data"
    }
   ],
   "source": [
    "# Price\n",
    "#plt.figure(figsize=(4,2))\n",
    "sns.displot(data = df, x = \"price\", kind=\"kde\", fill = True, linewidth = 2, height=2, aspect=7/4) #aspect; width/height ratio \n",
    "plt.show();"
   ]
  },
  {
   "cell_type": "code",
   "execution_count": 12,
   "id": "48b99965",
   "metadata": {},
   "outputs": [
    {
     "name": "stderr",
     "output_type": "stream",
     "text": [
      "/home/elnur/anaconda3/lib/python3.11/site-packages/seaborn/_oldcore.py:1119: FutureWarning: use_inf_as_na option is deprecated and will be removed in a future version. Convert inf values to NaN before operating instead.\n",
      "  with pd.option_context('mode.use_inf_as_na', True):\n"
     ]
    },
    {
     "data": {
      "image/png": "[encoded data removed]",
      "text/plain": [
       "<Figure size 350x200 with 1 Axes>"
      ]
     },
     "metadata": {},
     "output_type": "display_data"
    }
   ],
   "source": [
    "# wine_score\n",
    "#plt.figure(figsize=(4,2))\n",
    "sns.displot(data = df, x = \"wine_score\", kind=\"kde\", fill = True, linewidth = 2, height=2, aspect=7/4)\n",
    "plt.show()"
   ]
  },
  {
   "cell_type": "code",
   "execution_count": 13,
   "id": "7b1715ca",
   "metadata": {},
   "outputs": [
    {
     "name": "stderr",
     "output_type": "stream",
     "text": [
      "/home/elnur/anaconda3/lib/python3.11/site-packages/seaborn/_oldcore.py:1119: FutureWarning: use_inf_as_na option is deprecated and will be removed in a future version. Convert inf values to NaN before operating instead.\n",
      "  with pd.option_context('mode.use_inf_as_na', True):\n"
     ]
    },
    {
     "data": {
      "image/png": "[encoded data removed]",
      "text/plain": [
       "<Figure size 350x200 with 1 Axes>"
      ]
     },
     "metadata": {},
     "output_type": "display_data"
    }
   ],
   "source": [
    "# age_of_wine\n",
    "# plt.figure(figsize=(4,2))\n",
    "sns.displot(data = df, x = \"age_of_wine\", kind=\"kde\", fill = True, linewidth = 2, height=2, aspect=7/4)\n",
    "plt.show()"
   ]
  },
  {
   "cell_type": "markdown",
   "id": "a1aa0d47",
   "metadata": {},
   "source": [
    "## Histplot (Histogram Plot)"
   ]
  },
  {
   "cell_type": "code",
   "execution_count": 14,
   "id": "bb48238c",
   "metadata": {},
   "outputs": [
    {
     "name": "stderr",
     "output_type": "stream",
     "text": [
      "/home/elnur/anaconda3/lib/python3.11/site-packages/seaborn/_oldcore.py:1119: FutureWarning: use_inf_as_na option is deprecated and will be removed in a future version. Convert inf values to NaN before operating instead.\n",
      "  with pd.option_context('mode.use_inf_as_na', True):\n"
     ]
    },
    {
     "data": {
      "image/png": "[encoded data removed]",
      "text/plain": [
       "<Figure size 400x200 with 1 Axes>"
      ]
     },
     "metadata": {},
     "output_type": "display_data"
    }
   ],
   "source": [
    "# Price\n",
    "plt.figure(figsize=(4,2))\n",
    "sns.histplot(data = df, x = \"price\", fill = True, linewidth = 1, color=\"red\", bins=40)\n",
    "plt.show()"
   ]
  },
  {
   "cell_type": "code",
   "execution_count": 15,
   "id": "f4cb7b30",
   "metadata": {},
   "outputs": [
    {
     "name": "stderr",
     "output_type": "stream",
     "text": [
      "/home/elnur/anaconda3/lib/python3.11/site-packages/seaborn/_oldcore.py:1119: FutureWarning: use_inf_as_na option is deprecated and will be removed in a future version. Convert inf values to NaN before operating instead.\n",
      "  with pd.option_context('mode.use_inf_as_na', True):\n"
     ]
    },
    {
     "data": {
      "image/png": "[encoded data removed]",
      "text/plain": [
       "<Figure size 400x200 with 1 Axes>"
      ]
     },
     "metadata": {},
     "output_type": "display_data"
    }
   ],
   "source": [
    "# wine_score\n",
    "plt.figure(figsize=(4,2))\n",
    "sns.histplot(data = df, x = \"wine_score\", fill = True, linewidth = 1, color=\"red\", bins=10)\n",
    "plt.show()"
   ]
  },
  {
   "cell_type": "code",
   "execution_count": 16,
   "id": "b489f026",
   "metadata": {},
   "outputs": [
    {
     "name": "stderr",
     "output_type": "stream",
     "text": [
      "/home/elnur/anaconda3/lib/python3.11/site-packages/seaborn/_oldcore.py:1119: FutureWarning: use_inf_as_na option is deprecated and will be removed in a future version. Convert inf values to NaN before operating instead.\n",
      "  with pd.option_context('mode.use_inf_as_na', True):\n"
     ]
    },
    {
     "data": {
      "image/png": "[encoded data removed]",
      "text/plain": [
       "<Figure size 400x200 with 1 Axes>"
      ]
     },
     "metadata": {},
     "output_type": "display_data"
    }
   ],
   "source": [
    "# age_of_wine\n",
    "plt.figure(figsize=(4,2))\n",
    "sns.histplot(data = df, x = \"age_of_wine\", fill = True, linewidth = 1, color=\"red\", bins=40)\n",
    "plt.show()"
   ]
  },
  {
   "cell_type": "markdown",
   "id": "ef33116a",
   "metadata": {},
   "source": [
    "## Pie Chart\n",
    "For Categorical Data"
   ]
  },
  {
   "cell_type": "code",
   "execution_count": 17,
   "id": "58b5517a",
   "metadata": {},
   "outputs": [
    {
     "data": {
      "text/plain": [
       "Index(['ID', 'price', 'vintage', 'wine_score', 'country_of_origin', 'positive',\n",
       "       'negative', 'age_of_wine'],\n",
       "      dtype='object')"
      ]
     },
     "execution_count": 17,
     "metadata": {},
     "output_type": "execute_result"
    }
   ],
   "source": [
    "df.columns"
   ]
  },
  {
   "cell_type": "code",
   "execution_count": 18,
   "id": "f761fade",
   "metadata": {},
   "outputs": [
    {
     "data": {
      "text/plain": [
       "country_of_origin\n",
       "France         14627\n",
       "Spain           5517\n",
       "New Zealand     1218\n",
       "England           47\n",
       "Name: count, dtype: int64"
      ]
     },
     "execution_count": 18,
     "metadata": {},
     "output_type": "execute_result"
    }
   ],
   "source": [
    "# Calculate the distribution of countries\n",
    "country_counts = df['country_of_origin'].value_counts()\n",
    "country_counts"
   ]
  },
  {
   "cell_type": "code",
   "execution_count": 19,
   "id": "75558b61",
   "metadata": {},
   "outputs": [
    {
     "data": {
      "image/png": "[encoded data removed]",
      "text/plain": [
       "<Figure size 400x400 with 1 Axes>"
      ]
     },
     "metadata": {},
     "output_type": "display_data"
    }
   ],
   "source": [
    "# Country\n",
    "\n",
    "# Calculate the distribution of countries\n",
    "country_counts = df['country_of_origin'].value_counts()\n",
    "\n",
    "plt.figure(figsize=(4,4))\n",
    "plt.pie(country_counts, labels=country_counts.index )\n",
    "plt.show()"
   ]
  },
  {
   "cell_type": "code",
   "execution_count": 20,
   "id": "5e03e142",
   "metadata": {},
   "outputs": [
    {
     "data": {
      "image/png": "[encoded data removed]",
      "text/plain": [
       "<Figure size 400x400 with 1 Axes>"
      ]
     },
     "metadata": {},
     "output_type": "display_data"
    }
   ],
   "source": [
    "# I want to write percentages on chart\n",
    "\n",
    "# Calculate the distribution of countries\n",
    "country_counts = df['country_of_origin'].value_counts()\n",
    "\n",
    "plt.figure(figsize=(4,4))\n",
    "plt.pie(country_counts, labels=country_counts.index, autopct='%1.1f%%')\n",
    "plt.title('Country Distribution')\n",
    "plt.show()"
   ]
  },
  {
   "cell_type": "markdown",
   "id": "36b11ad9",
   "metadata": {},
   "source": [
    "## Bar Chart\n",
    "For Categorical Data"
   ]
  },
  {
   "cell_type": "code",
   "execution_count": 21,
   "id": "9207b8eb",
   "metadata": {},
   "outputs": [
    {
     "data": {
      "image/png": "[encoded data removed]",
      "text/plain": [
       "<Figure size 400x400 with 1 Axes>"
      ]
     },
     "metadata": {},
     "output_type": "display_data"
    }
   ],
   "source": [
    "# Country\n",
    "\n",
    "# Calculate the distribution of countries\n",
    "country_counts = df['country_of_origin'].value_counts()\n",
    "\n",
    "plt.figure(figsize=(4,4))\n",
    "plt.bar(country_counts.index, country_counts.values )\n",
    "plt.show()"
   ]
  },
  {
   "cell_type": "code",
   "execution_count": 22,
   "id": "64b03dd8",
   "metadata": {},
   "outputs": [
    {
     "data": {
      "image/png": "[encoded data removed]",
      "text/plain": [
       "<Figure size 400x400 with 1 Axes>"
      ]
     },
     "metadata": {},
     "output_type": "display_data"
    }
   ],
   "source": [
    "# I want to write numbers on the bars\n",
    "\n",
    "# Calculate the distribution of countries\n",
    "country_counts = df['country_of_origin'].value_counts()\n",
    "\n",
    "plt.figure(figsize=(4,4))\n",
    "bars = plt.bar(country_counts.index, country_counts.values)\n",
    "\n",
    "# To add numbers above columns\n",
    "for bar, count in zip(bars, country_counts.values):\n",
    "    plt.text(bar.get_x() + bar.get_width()/2, bar.get_height() + 1, count, ha='center', va='bottom')\n",
    "\n",
    "plt.show()"
   ]
  },
  {
   "cell_type": "code",
   "execution_count": 23,
   "id": "3b3724ba",
   "metadata": {},
   "outputs": [],
   "source": [
    "#sns.reset_defaults()"
   ]
  },
  {
   "cell_type": "code",
   "execution_count": 24,
   "id": "61a21d55",
   "metadata": {},
   "outputs": [
    {
     "data": {
      "image/png": "[encoded data removed]",
      "text/plain": [
       "<Figure size 400x400 with 1 Axes>"
      ]
     },
     "metadata": {},
     "output_type": "display_data"
    }
   ],
   "source": [
    "# For different colur bars\n",
    "\n",
    "# Calculate the distribution of countries\n",
    "country_counts = df['country_of_origin'].value_counts()\n",
    "\n",
    "# Set figure size\n",
    "plt.figure(figsize=(4, 4))\n",
    "\n",
    "# Create a list of colors\n",
    "colors = sns.color_palette(\"hsv\", len(country_counts))\n",
    "\n",
    "# Plot bar chart with different colors\n",
    "plt.bar(country_counts.index, country_counts.values, color=colors)\n",
    "\n",
    "# Add title\n",
    "plt.title('Distribution of Country of Origin')\n",
    "\n",
    "# Rotate x-axis labels\n",
    "plt.xticks(rotation=45)\n",
    "\n",
    "# Show the plot\n",
    "plt.show()"
   ]
  },
  {
   "cell_type": "markdown",
   "id": "5be950df",
   "metadata": {},
   "source": [
    "## Line Charts\n",
    "\n",
    "For numerical (especially continues) data"
   ]
  },
  {
   "cell_type": "code",
   "execution_count": 25,
   "id": "93b47365",
   "metadata": {},
   "outputs": [
    {
     "data": {
      "text/plain": [
       "Index(['ID', 'price', 'vintage', 'wine_score', 'country_of_origin', 'positive',\n",
       "       'negative', 'age_of_wine'],\n",
       "      dtype='object')"
      ]
     },
     "execution_count": 25,
     "metadata": {},
     "output_type": "execute_result"
    }
   ],
   "source": [
    "df.columns"
   ]
  },
  {
   "cell_type": "code",
   "execution_count": 26,
   "id": "47455804",
   "metadata": {},
   "outputs": [
    {
     "name": "stderr",
     "output_type": "stream",
     "text": [
      "/home/elnur/anaconda3/lib/python3.11/site-packages/seaborn/_oldcore.py:1119: FutureWarning: use_inf_as_na option is deprecated and will be removed in a future version. Convert inf values to NaN before operating instead.\n",
      "  with pd.option_context('mode.use_inf_as_na', True):\n",
      "/home/elnur/anaconda3/lib/python3.11/site-packages/seaborn/_oldcore.py:1119: FutureWarning: use_inf_as_na option is deprecated and will be removed in a future version. Convert inf values to NaN before operating instead.\n",
      "  with pd.option_context('mode.use_inf_as_na', True):\n"
     ]
    },
    {
     "data": {
      "image/png": "[encoded data removed]",
      "text/plain": [
       "<Figure size 400x200 with 1 Axes>"
      ]
     },
     "metadata": {},
     "output_type": "display_data"
    }
   ],
   "source": [
    "# Price by Year\n",
    "plt.figure(figsize=(4,2))\n",
    "sns.lineplot(data = df, x = \"vintage\", y='price', linewidth = 1, color=\"red\")\n",
    "plt.show()"
   ]
  },
  {
   "cell_type": "code",
   "execution_count": 27,
   "id": "4db4a524",
   "metadata": {},
   "outputs": [
    {
     "name": "stderr",
     "output_type": "stream",
     "text": [
      "/home/elnur/anaconda3/lib/python3.11/site-packages/seaborn/_oldcore.py:1119: FutureWarning: use_inf_as_na option is deprecated and will be removed in a future version. Convert inf values to NaN before operating instead.\n",
      "  with pd.option_context('mode.use_inf_as_na', True):\n",
      "/home/elnur/anaconda3/lib/python3.11/site-packages/seaborn/_oldcore.py:1119: FutureWarning: use_inf_as_na option is deprecated and will be removed in a future version. Convert inf values to NaN before operating instead.\n",
      "  with pd.option_context('mode.use_inf_as_na', True):\n"
     ]
    },
    {
     "data": {
      "image/png": "[encoded data removed]",
      "text/plain": [
       "<Figure size 400x200 with 1 Axes>"
      ]
     },
     "metadata": {},
     "output_type": "display_data"
    }
   ],
   "source": [
    "# Quality Score by Year\n",
    "plt.figure(figsize=(4,2))\n",
    "sns.lineplot(data = df, x = \"vintage\", y='wine_score', linewidth = 1, color=\"red\")\n",
    "plt.show()"
   ]
  },
  {
   "cell_type": "markdown",
   "id": "71d564e8",
   "metadata": {},
   "source": [
    "# Central Tendency (Measure of Centre)\n",
    "Mean, Mode, Median, Max, Min, Range "
   ]
  },
  {
   "cell_type": "markdown",
   "id": "cf1dc53a",
   "metadata": {},
   "source": [
    "## Mean\n",
    "Aritmetic Average\n",
    "\n",
    "Useful for filling the null values at numeric data. "
   ]
  },
  {
   "cell_type": "code",
   "execution_count": 55,
   "id": "3ce8f65a",
   "metadata": {},
   "outputs": [
    {
     "data": {
      "text/plain": [
       "35.46193189779999"
      ]
     },
     "execution_count": 55,
     "metadata": {},
     "output_type": "execute_result"
    }
   ],
   "source": [
    "# Mean (Average) of Price\n",
    "\n",
    "Mean_of_Price = df['price'].mean()\n",
    "Mean_of_Price "
   ]
  },
  {
   "cell_type": "code",
   "execution_count": 28,
   "id": "a952534e",
   "metadata": {},
   "outputs": [
    {
     "data": {
      "text/plain": [
       "88.34034005979073"
      ]
     },
     "execution_count": 28,
     "metadata": {},
     "output_type": "execute_result"
    }
   ],
   "source": [
    "# Mean (Average) of Score\n",
    "\n",
    "Mean_of_Score = df['wine_score'].mean()\n",
    "Mean_of_Score "
   ]
  },
  {
   "cell_type": "markdown",
   "id": "1f6af86f",
   "metadata": {},
   "source": [
    "**NOTE:** If there are null values in a **numerical column**, we can fill them by using **mean**."
   ]
  },
  {
   "cell_type": "markdown",
   "id": "ad82b392",
   "metadata": {},
   "source": [
    "## Mode\n",
    "Most Frequency\n",
    "\n",
    "Useful for filling the null values at categorical data. "
   ]
  },
  {
   "cell_type": "code",
   "execution_count": 57,
   "id": "c6fa8982",
   "metadata": {},
   "outputs": [
    {
     "data": {
      "text/plain": [
       "0    15.0\n",
       "Name: price, dtype: float64"
      ]
     },
     "execution_count": 57,
     "metadata": {},
     "output_type": "execute_result"
    }
   ],
   "source": [
    "# Mode (Most Frequncy) Price\n",
    "\n",
    "Mode_of_Price = df['price'].mode()\n",
    "Mode_of_Price "
   ]
  },
  {
   "cell_type": "code",
   "execution_count": 30,
   "id": "f607b971",
   "metadata": {},
   "outputs": [
    {
     "data": {
      "text/plain": [
       "2011.0852445233313"
      ]
     },
     "execution_count": 30,
     "metadata": {},
     "output_type": "execute_result"
    }
   ],
   "source": [
    "Mean_of_Vintage = df['vintage'].mean()\n",
    "Mean_of_Vintage"
   ]
  },
  {
   "cell_type": "code",
   "execution_count": 31,
   "id": "a9c9c194",
   "metadata": {},
   "outputs": [
    {
     "data": {
      "text/plain": [
       "12.914755476668692"
      ]
     },
     "execution_count": 31,
     "metadata": {},
     "output_type": "execute_result"
    }
   ],
   "source": [
    "Mean_of_Age = df['age_of_wine'].mean()\n",
    "Mean_of_Age"
   ]
  },
  {
   "cell_type": "code",
   "execution_count": 32,
   "id": "4328e40f",
   "metadata": {},
   "outputs": [
    {
     "data": {
      "text/plain": [
       "0    2014\n",
       "Name: vintage, dtype: int64"
      ]
     },
     "execution_count": 32,
     "metadata": {},
     "output_type": "execute_result"
    }
   ],
   "source": [
    "# Mode (Most Frequncy) Year\n",
    "\n",
    "Mode_of_Year = df['vintage'].mode()\n",
    "Mode_of_Year "
   ]
  },
  {
   "cell_type": "code",
   "execution_count": 33,
   "id": "22902721",
   "metadata": {},
   "outputs": [
    {
     "data": {
      "text/plain": [
       "0    France\n",
       "Name: country_of_origin, dtype: object"
      ]
     },
     "execution_count": 33,
     "metadata": {},
     "output_type": "execute_result"
    }
   ],
   "source": [
    "# Mode (Most Frequncy) Country\n",
    "\n",
    "Mode_of_Country = df['country_of_origin'].mode()\n",
    "Mode_of_Country "
   ]
  },
  {
   "cell_type": "code",
   "execution_count": 34,
   "id": "f4bc0a92",
   "metadata": {},
   "outputs": [
    {
     "name": "stdout",
     "output_type": "stream",
     "text": [
      "<class 'pandas.core.frame.DataFrame'>\n",
      "RangeIndex: 21409 entries, 0 to 21408\n",
      "Data columns (total 8 columns):\n",
      " #   Column             Non-Null Count  Dtype  \n",
      "---  ------             --------------  -----  \n",
      " 0   ID                 21409 non-null  int64  \n",
      " 1   price              21409 non-null  float64\n",
      " 2   vintage            21409 non-null  int64  \n",
      " 3   wine_score         21409 non-null  float64\n",
      " 4   country_of_origin  21409 non-null  object \n",
      " 5   positive           21409 non-null  int64  \n",
      " 6   negative           21409 non-null  int64  \n",
      " 7   age_of_wine        21409 non-null  int64  \n",
      "dtypes: float64(2), int64(5), object(1)\n",
      "memory usage: 1.3+ MB\n"
     ]
    }
   ],
   "source": [
    "df.info()"
   ]
  },
  {
   "cell_type": "markdown",
   "id": "82088d60",
   "metadata": {},
   "source": [
    "**NOTE:** If there are null values in a **categorical column**, we can fill them by using **mode**. "
   ]
  },
  {
   "cell_type": "markdown",
   "id": "b7659247",
   "metadata": {},
   "source": [
    "## Median \n",
    "Central point"
   ]
  },
  {
   "cell_type": "code",
   "execution_count": 65,
   "id": "69d4fd01",
   "metadata": {},
   "outputs": [
    {
     "data": {
      "text/plain": [
       "22.0"
      ]
     },
     "execution_count": 65,
     "metadata": {},
     "output_type": "execute_result"
    }
   ],
   "source": [
    "# Median of Price\n",
    "\n",
    "Median_of_Price = df['price'].median()\n",
    "Median_of_Price "
   ]
  },
  {
   "cell_type": "code",
   "execution_count": 36,
   "id": "68aad369",
   "metadata": {},
   "outputs": [
    {
     "data": {
      "text/plain": [
       "2012.0"
      ]
     },
     "execution_count": 36,
     "metadata": {},
     "output_type": "execute_result"
    }
   ],
   "source": [
    "Median_of_Vintage = df['vintage'].median()\n",
    "Median_of_Vintage"
   ]
  },
  {
   "cell_type": "markdown",
   "id": "8b572ca3",
   "metadata": {},
   "source": [
    "## Max, Min"
   ]
  },
  {
   "cell_type": "code",
   "execution_count": 37,
   "id": "7b326c7b",
   "metadata": {},
   "outputs": [
    {
     "data": {
      "text/plain": [
       "595.0"
      ]
     },
     "execution_count": 37,
     "metadata": {},
     "output_type": "execute_result"
    }
   ],
   "source": [
    "# Max Price\n",
    "\n",
    "Max_Price = df['price'].max()\n",
    "Max_Price "
   ]
  },
  {
   "cell_type": "code",
   "execution_count": 39,
   "id": "074e23ee",
   "metadata": {},
   "outputs": [
    {
     "data": {
      "text/plain": [
       "2016"
      ]
     },
     "execution_count": 39,
     "metadata": {},
     "output_type": "execute_result"
    }
   ],
   "source": [
    "Max_Vintage = df['vintage'].max()\n",
    "Max_Vintage"
   ]
  },
  {
   "cell_type": "code",
   "execution_count": 38,
   "id": "9d636c3b",
   "metadata": {},
   "outputs": [
    {
     "data": {
      "text/plain": [
       "4.0"
      ]
     },
     "execution_count": 38,
     "metadata": {},
     "output_type": "execute_result"
    }
   ],
   "source": [
    "# Min Price\n",
    "\n",
    "Min_Price = df['price'].min()\n",
    "Min_Price "
   ]
  },
  {
   "cell_type": "code",
   "execution_count": 40,
   "id": "c211013f",
   "metadata": {},
   "outputs": [
    {
     "data": {
      "text/plain": [
       "1752"
      ]
     },
     "execution_count": 40,
     "metadata": {},
     "output_type": "execute_result"
    }
   ],
   "source": [
    "Min_Vintage = df['vintage'].min()\n",
    "Min_Vintage"
   ]
  },
  {
   "cell_type": "markdown",
   "id": "da9f7c59",
   "metadata": {},
   "source": [
    "## Range\n",
    "Gap (difference) between max value and min value"
   ]
  },
  {
   "cell_type": "code",
   "execution_count": 62,
   "id": "6fef0397",
   "metadata": {},
   "outputs": [
    {
     "data": {
      "text/plain": [
       "591.0"
      ]
     },
     "execution_count": 62,
     "metadata": {},
     "output_type": "execute_result"
    }
   ],
   "source": [
    "# What is the your price range?\n",
    "Range_of_Price = df['price'].max() - df['price'].min()\n",
    "Range_of_Price "
   ]
  },
  {
   "cell_type": "code",
   "execution_count": 84,
   "id": "202e69de",
   "metadata": {},
   "outputs": [
    {
     "data": {
      "text/plain": [
       "264"
      ]
     },
     "execution_count": 84,
     "metadata": {},
     "output_type": "execute_result"
    }
   ],
   "source": [
    "# What is the year range of your wines?\n",
    "Range_of_Year = df['vintage'].max() - df['vintage'].min()\n",
    "Range_of_Year "
   ]
  },
  {
   "cell_type": "markdown",
   "id": "e9ecd471",
   "metadata": {},
   "source": [
    "## IQR"
   ]
  },
  {
   "cell_type": "code",
   "execution_count": 43,
   "id": "c18d5a4a",
   "metadata": {},
   "outputs": [
    {
     "data": {
      "text/plain": [
       "22.0"
      ]
     },
     "execution_count": 43,
     "metadata": {},
     "output_type": "execute_result"
    }
   ],
   "source": [
    "# IQR for Price\n",
    "\n",
    "# Calculate Q1 (25th percentile) and Q3 (75th percentile)\n",
    "Q1 = df['price'].quantile(0.25)\n",
    "Q3 = df['price'].quantile(0.75)\n",
    "\n",
    "# Calculate IQR\n",
    "IQR = Q3 - Q1\n",
    "IQR"
   ]
  },
  {
   "cell_type": "code",
   "execution_count": 44,
   "id": "f7e8735f",
   "metadata": {},
   "outputs": [
    {
     "data": {
      "text/plain": [
       "5.0"
      ]
     },
     "execution_count": 44,
     "metadata": {},
     "output_type": "execute_result"
    }
   ],
   "source": [
    "# IQR for Quality\n",
    "\n",
    "# Calculate Q1 (25th percentile) and Q3 (75th percentile)\n",
    "Q1 = df['wine_score'].quantile(0.25)\n",
    "Q3 = df['wine_score'].quantile(0.75)\n",
    "\n",
    "# Calculate IQR\n",
    "IQR = Q3 - Q1\n",
    "IQR"
   ]
  },
  {
   "cell_type": "code",
   "execution_count": 45,
   "id": "12cd7d6c",
   "metadata": {},
   "outputs": [
    {
     "data": {
      "text/plain": [
       "5.0"
      ]
     },
     "execution_count": 45,
     "metadata": {},
     "output_type": "execute_result"
    }
   ],
   "source": [
    "IQR_age = df['age_of_wine'].quantile(0.75) - df['age_of_wine'].quantile(0.25)\n",
    "IQR_age"
   ]
  },
  {
   "cell_type": "markdown",
   "id": "c8f45843",
   "metadata": {},
   "source": [
    "## Variance & Standard Deviation"
   ]
  },
  {
   "cell_type": "code",
   "execution_count": 87,
   "id": "04e01e18",
   "metadata": {},
   "outputs": [
    {
     "data": {
      "text/plain": [
       "2004.4804266861809"
      ]
     },
     "execution_count": 87,
     "metadata": {},
     "output_type": "execute_result"
    }
   ],
   "source": [
    "# Price\n",
    "\n",
    "# Calculate the variance of the 'price' column\n",
    "variance_of_price = df['price'].var()\n",
    "variance_of_price "
   ]
  },
  {
   "cell_type": "code",
   "execution_count": 88,
   "id": "0749a42a",
   "metadata": {},
   "outputs": [
    {
     "data": {
      "text/plain": [
       "44.77142421998859"
      ]
     },
     "execution_count": 88,
     "metadata": {},
     "output_type": "execute_result"
    }
   ],
   "source": [
    "# Calculate the standard deviation of the 'price' column\n",
    "std_dev_of_price = df['price'].std()\n",
    "std_dev_of_price"
   ]
  },
  {
   "cell_type": "code",
   "execution_count": 89,
   "id": "a7eedc29",
   "metadata": {},
   "outputs": [
    {
     "data": {
      "text/plain": [
       "44.77142421998859"
      ]
     },
     "execution_count": 89,
     "metadata": {},
     "output_type": "execute_result"
    }
   ],
   "source": [
    "# Second Way for Std Dev (using squre root);\n",
    "\n",
    "import math\n",
    "\n",
    "std_dev_of_price = math.sqrt(variance_of_price)\n",
    "std_dev_of_price\n",
    "\n"
   ]
  },
  {
   "cell_type": "code",
   "execution_count": 46,
   "id": "3f3f5f57",
   "metadata": {},
   "outputs": [
    {
     "data": {
      "text/plain": [
       "3.1345801011486953"
      ]
     },
     "execution_count": 46,
     "metadata": {},
     "output_type": "execute_result"
    }
   ],
   "source": [
    "std_dev_of_wine_score = df['wine_score'].std()\n",
    "std_dev_of_wine_score"
   ]
  },
  {
   "cell_type": "markdown",
   "id": "2def15cd",
   "metadata": {},
   "source": [
    "# Descriptive Statistics"
   ]
  },
  {
   "cell_type": "code",
   "execution_count": 67,
   "id": "749b5c76",
   "metadata": {},
   "outputs": [
    {
     "data": {
      "text/html": [
       "<div>\n",
       "<style scoped>\n",
       "    .dataframe tbody tr th:only-of-type {\n",
       "        vertical-align: middle;\n",
       "    }\n",
       "\n",
       "    .dataframe tbody tr th {\n",
       "        vertical-align: top;\n",
       "    }\n",
       "\n",
       "    .dataframe thead th {\n",
       "        text-align: right;\n",
       "    }\n",
       "</style>\n",
       "<table border=\"1\" class=\"dataframe\">\n",
       "  <thead>\n",
       "    <tr style=\"text-align: right;\">\n",
       "      <th></th>\n",
       "      <th>ID</th>\n",
       "      <th>price</th>\n",
       "      <th>vintage</th>\n",
       "      <th>wine_score</th>\n",
       "      <th>positive</th>\n",
       "      <th>negative</th>\n",
       "      <th>age_of_wine</th>\n",
       "    </tr>\n",
       "  </thead>\n",
       "  <tbody>\n",
       "    <tr>\n",
       "      <th>count</th>\n",
       "      <td>21409.000000</td>\n",
       "      <td>21409.000000</td>\n",
       "      <td>21409.000000</td>\n",
       "      <td>21409.00000</td>\n",
       "      <td>21409.000000</td>\n",
       "      <td>21409.000000</td>\n",
       "      <td>21409.000000</td>\n",
       "    </tr>\n",
       "    <tr>\n",
       "      <th>mean</th>\n",
       "      <td>10805.000000</td>\n",
       "      <td>35.461932</td>\n",
       "      <td>2011.085245</td>\n",
       "      <td>88.34034</td>\n",
       "      <td>0.936709</td>\n",
       "      <td>-0.208651</td>\n",
       "      <td>12.914755</td>\n",
       "    </tr>\n",
       "    <tr>\n",
       "      <th>std</th>\n",
       "      <td>6180.390292</td>\n",
       "      <td>44.771424</td>\n",
       "      <td>5.482713</td>\n",
       "      <td>3.13458</td>\n",
       "      <td>0.995065</td>\n",
       "      <td>0.468005</td>\n",
       "      <td>5.482713</td>\n",
       "    </tr>\n",
       "    <tr>\n",
       "      <th>min</th>\n",
       "      <td>101.000000</td>\n",
       "      <td>4.000000</td>\n",
       "      <td>1752.000000</td>\n",
       "      <td>80.00000</td>\n",
       "      <td>0.000000</td>\n",
       "      <td>-5.000000</td>\n",
       "      <td>8.000000</td>\n",
       "    </tr>\n",
       "    <tr>\n",
       "      <th>25%</th>\n",
       "      <td>5453.000000</td>\n",
       "      <td>15.000000</td>\n",
       "      <td>2009.000000</td>\n",
       "      <td>86.00000</td>\n",
       "      <td>0.000000</td>\n",
       "      <td>0.000000</td>\n",
       "      <td>10.000000</td>\n",
       "    </tr>\n",
       "    <tr>\n",
       "      <th>50%</th>\n",
       "      <td>10805.000000</td>\n",
       "      <td>22.000000</td>\n",
       "      <td>2012.000000</td>\n",
       "      <td>88.00000</td>\n",
       "      <td>1.000000</td>\n",
       "      <td>0.000000</td>\n",
       "      <td>12.000000</td>\n",
       "    </tr>\n",
       "    <tr>\n",
       "      <th>75%</th>\n",
       "      <td>16157.000000</td>\n",
       "      <td>37.000000</td>\n",
       "      <td>2014.000000</td>\n",
       "      <td>91.00000</td>\n",
       "      <td>2.000000</td>\n",
       "      <td>0.000000</td>\n",
       "      <td>15.000000</td>\n",
       "    </tr>\n",
       "    <tr>\n",
       "      <th>max</th>\n",
       "      <td>21509.000000</td>\n",
       "      <td>595.000000</td>\n",
       "      <td>2016.000000</td>\n",
       "      <td>100.00000</td>\n",
       "      <td>7.000000</td>\n",
       "      <td>0.000000</td>\n",
       "      <td>272.000000</td>\n",
       "    </tr>\n",
       "  </tbody>\n",
       "</table>\n",
       "</div>"
      ],
      "text/plain": [
       "                 ID         price       vintage   wine_score      positive  \\\n",
       "count  21409.000000  21409.000000  21409.000000  21409.00000  21409.000000   \n",
       "mean   10805.000000     35.461932   2011.085245     88.34034      0.936709   \n",
       "std     6180.390292     44.771424      5.482713      3.13458      0.995065   \n",
       "min      101.000000      4.000000   1752.000000     80.00000      0.000000   \n",
       "25%     5453.000000     15.000000   2009.000000     86.00000      0.000000   \n",
       "50%    10805.000000     22.000000   2012.000000     88.00000      1.000000   \n",
       "75%    16157.000000     37.000000   2014.000000     91.00000      2.000000   \n",
       "max    21509.000000    595.000000   2016.000000    100.00000      7.000000   \n",
       "\n",
       "           negative   age_of_wine  \n",
       "count  21409.000000  21409.000000  \n",
       "mean      -0.208651     12.914755  \n",
       "std        0.468005      5.482713  \n",
       "min       -5.000000      8.000000  \n",
       "25%        0.000000     10.000000  \n",
       "50%        0.000000     12.000000  \n",
       "75%        0.000000     15.000000  \n",
       "max        0.000000    272.000000  "
      ]
     },
     "execution_count": 67,
     "metadata": {},
     "output_type": "execute_result"
    }
   ],
   "source": [
    "df.describe()"
   ]
  },
  {
   "cell_type": "code",
   "execution_count": 68,
   "id": "7be9ef6c",
   "metadata": {},
   "outputs": [
    {
     "data": {
      "text/html": [
       "<div>\n",
       "<style scoped>\n",
       "    .dataframe tbody tr th:only-of-type {\n",
       "        vertical-align: middle;\n",
       "    }\n",
       "\n",
       "    .dataframe tbody tr th {\n",
       "        vertical-align: top;\n",
       "    }\n",
       "\n",
       "    .dataframe thead th {\n",
       "        text-align: right;\n",
       "    }\n",
       "</style>\n",
       "<table border=\"1\" class=\"dataframe\">\n",
       "  <thead>\n",
       "    <tr style=\"text-align: right;\">\n",
       "      <th></th>\n",
       "      <th>count</th>\n",
       "      <th>mean</th>\n",
       "      <th>std</th>\n",
       "      <th>min</th>\n",
       "      <th>25%</th>\n",
       "      <th>50%</th>\n",
       "      <th>75%</th>\n",
       "      <th>max</th>\n",
       "    </tr>\n",
       "  </thead>\n",
       "  <tbody>\n",
       "    <tr>\n",
       "      <th>ID</th>\n",
       "      <td>21409.0</td>\n",
       "      <td>10805.000000</td>\n",
       "      <td>6180.390292</td>\n",
       "      <td>101.0</td>\n",
       "      <td>5453.0</td>\n",
       "      <td>10805.0</td>\n",
       "      <td>16157.0</td>\n",
       "      <td>21509.0</td>\n",
       "    </tr>\n",
       "    <tr>\n",
       "      <th>price</th>\n",
       "      <td>21409.0</td>\n",
       "      <td>35.461932</td>\n",
       "      <td>44.771424</td>\n",
       "      <td>4.0</td>\n",
       "      <td>15.0</td>\n",
       "      <td>22.0</td>\n",
       "      <td>37.0</td>\n",
       "      <td>595.0</td>\n",
       "    </tr>\n",
       "    <tr>\n",
       "      <th>vintage</th>\n",
       "      <td>21409.0</td>\n",
       "      <td>2011.085245</td>\n",
       "      <td>5.482713</td>\n",
       "      <td>1752.0</td>\n",
       "      <td>2009.0</td>\n",
       "      <td>2012.0</td>\n",
       "      <td>2014.0</td>\n",
       "      <td>2016.0</td>\n",
       "    </tr>\n",
       "    <tr>\n",
       "      <th>wine_score</th>\n",
       "      <td>21409.0</td>\n",
       "      <td>88.340340</td>\n",
       "      <td>3.134580</td>\n",
       "      <td>80.0</td>\n",
       "      <td>86.0</td>\n",
       "      <td>88.0</td>\n",
       "      <td>91.0</td>\n",
       "      <td>100.0</td>\n",
       "    </tr>\n",
       "    <tr>\n",
       "      <th>positive</th>\n",
       "      <td>21409.0</td>\n",
       "      <td>0.936709</td>\n",
       "      <td>0.995065</td>\n",
       "      <td>0.0</td>\n",
       "      <td>0.0</td>\n",
       "      <td>1.0</td>\n",
       "      <td>2.0</td>\n",
       "      <td>7.0</td>\n",
       "    </tr>\n",
       "    <tr>\n",
       "      <th>negative</th>\n",
       "      <td>21409.0</td>\n",
       "      <td>-0.208651</td>\n",
       "      <td>0.468005</td>\n",
       "      <td>-5.0</td>\n",
       "      <td>0.0</td>\n",
       "      <td>0.0</td>\n",
       "      <td>0.0</td>\n",
       "      <td>0.0</td>\n",
       "    </tr>\n",
       "    <tr>\n",
       "      <th>age_of_wine</th>\n",
       "      <td>21409.0</td>\n",
       "      <td>12.914755</td>\n",
       "      <td>5.482713</td>\n",
       "      <td>8.0</td>\n",
       "      <td>10.0</td>\n",
       "      <td>12.0</td>\n",
       "      <td>15.0</td>\n",
       "      <td>272.0</td>\n",
       "    </tr>\n",
       "  </tbody>\n",
       "</table>\n",
       "</div>"
      ],
      "text/plain": [
       "               count          mean          std     min     25%      50%  \\\n",
       "ID           21409.0  10805.000000  6180.390292   101.0  5453.0  10805.0   \n",
       "price        21409.0     35.461932    44.771424     4.0    15.0     22.0   \n",
       "vintage      21409.0   2011.085245     5.482713  1752.0  2009.0   2012.0   \n",
       "wine_score   21409.0     88.340340     3.134580    80.0    86.0     88.0   \n",
       "positive     21409.0      0.936709     0.995065     0.0     0.0      1.0   \n",
       "negative     21409.0     -0.208651     0.468005    -5.0     0.0      0.0   \n",
       "age_of_wine  21409.0     12.914755     5.482713     8.0    10.0     12.0   \n",
       "\n",
       "                 75%      max  \n",
       "ID           16157.0  21509.0  \n",
       "price           37.0    595.0  \n",
       "vintage       2014.0   2016.0  \n",
       "wine_score      91.0    100.0  \n",
       "positive         2.0      7.0  \n",
       "negative         0.0      0.0  \n",
       "age_of_wine     15.0    272.0  "
      ]
     },
     "execution_count": 68,
     "metadata": {},
     "output_type": "execute_result"
    }
   ],
   "source": [
    "df.describe().T"
   ]
  },
  {
   "cell_type": "markdown",
   "id": "48bfac4d",
   "metadata": {},
   "source": [
    "**COMMENT:** We focus on std at descriptive statistics. If Std is high, the values of the series are spread over a wide range. There is volatility/variation.\n",
    "\n",
    "* Here std is high in price, so prices has a wide range, may be there are outliers. \n",
    "\n",
    "* Vintage, wine_score has small std, so that series more stable / consistent / less range."
   ]
  },
  {
   "cell_type": "code",
   "execution_count": null,
   "id": "7d51dbfc",
   "metadata": {},
   "outputs": [],
   "source": []
  }
 ],
 "metadata": {
  "kernelspec": {
   "display_name": "Python 3 (ipykernel)",
   "language": "python",
   "name": "python3"
  },
  "language_info": {
   "codemirror_mode": {
    "name": "ipython",
    "version": 3
   },
   "file_extension": ".py",
   "mimetype": "text/x-python",
   "name": "python",
   "nbconvert_exporter": "python",
   "pygments_lexer": "ipython3",
   "version": "3.11.9"
  },
  "toc": {
   "base_numbering": 1,
   "nav_menu": {},
   "number_sections": true,
   "sideBar": true,
   "skip_h1_title": false,
   "title_cell": "Table of Contents",
   "title_sidebar": "Contents",
   "toc_cell": false,
   "toc_position": {
    "height": "calc(100% - 180px)",
    "left": "10px",
    "top": "150px",
    "width": "307.188px"
   },
   "toc_section_display": true,
   "toc_window_display": true
  }
 },
 "nbformat": 4,
 "nbformat_minor": 5
}
