{
 "cells": [
  {
   "cell_type": "markdown",
   "metadata": {},
   "source": [
    "1 - Take two inputs from the user. If these inputs are integers, print their product."
   ]
  },
  {
   "cell_type": "code",
   "execution_count": 33,
   "metadata": {},
   "outputs": [
    {
     "name": "stdout",
     "output_type": "stream",
     "text": [
      "At least one of your entries is a float.\n"
     ]
    }
   ],
   "source": [
    "a = input(\"Please, enter an integer: \")\n",
    "b = input(\"Please, enter another integer: \")\n",
    "if a.isalpha() or b.isalpha():\n",
    "    print(\"At least one of your entries is not numeric!\")\n",
    "    \n",
    "elif a.isnumeric() and b.isnumeric:\n",
    "    c = int(a) * int(b)\n",
    "    print(c)\n",
    "else:\n",
    "    print(\"At least one of your entries is a float.\")"
   ]
  },
  {
   "cell_type": "markdown",
   "metadata": {},
   "source": [
    "2 - Ask the user for a number. If the number is odd, print twice its value; if even, print its square."
   ]
  },
  {
   "cell_type": "code",
   "execution_count": null,
   "metadata": {},
   "outputs": [],
   "source": [
    "a = float(input(\"Please, enter a number: \"))\n",
    "if a % 2 == 0:\n",
    "    print(a**2)\n",
    "else:\n",
    "    print(a*2)"
   ]
  },
  {
   "cell_type": "markdown",
   "metadata": {},
   "source": [
    "3 - Ask the user for two integers. Write an algorithm that returns True if the numbers are equal or if the difference between the numbers is a multiple of 5. Otherwise, it should return False."
   ]
  },
  {
   "cell_type": "code",
   "execution_count": null,
   "metadata": {},
   "outputs": [],
   "source": [
    "a = int(input(\"Please, enter an integer: \"))\n",
    "b = int(input(\"Please, enter another integer: \"))\n",
    "if a==b or (a-b)%5 == 0:\n",
    "    print(True)\n",
    "else:\n",
    "    print(False)"
   ]
  },
  {
   "cell_type": "markdown",
   "metadata": {},
   "source": [
    "4 - Ask the user for their exam score. Print the corresponding letter grade. Remember to indicate that scores entered outside the range of 0-100 are invalid.\n",
    "\n",
    "- For scores between 80 and 100, print \"A\".\n",
    "- For scores between 65 and 79, print \"B\".\n",
    "- For scores between 55 and 64, print \"C\".\n",
    "- For scores between 35 and 54, print \"D\".\n",
    "- For scores between 0 and 34, print \"F\"."
   ]
  },
  {
   "cell_type": "code",
   "execution_count": 18,
   "metadata": {},
   "outputs": [
    {
     "name": "stdout",
     "output_type": "stream",
     "text": [
      "Your letter score is: C\n"
     ]
    }
   ],
   "source": [
    "user_score = input(\"Please, enter your score exam in the interval of 0-100: \")\n",
    "if user_score.isalpha():\n",
    "    print(\"Please, note that only numeric scores in the interval of 0-100 are valid!\")\n",
    "else:\n",
    "    a = float(user_score)\n",
    "    if a < 0 or a >100:\n",
    "        print(\"The scores out of 0-100 interval are not valid.\")\n",
    "    elif a <= 100 and a >= 80:\n",
    "        print (\"Your letter score is: A\")\n",
    "    elif a <= 79 and a >= 65:\n",
    "        print (\"Your letter score is: B\")\n",
    "    elif a <= 64 and a >= 55:\n",
    "        print (\"Your letter score is: C\")\n",
    "    elif a <= 54 and a >= 35:\n",
    "        print (\"Your letter score is: D\")\n",
    "    elif a <= 34 and a >= 0:\n",
    "        print(\"Your letter score is F\")"
   ]
  },
  {
   "cell_type": "markdown",
   "metadata": {},
   "source": [
    "5 - Ask the user to enter a value in seconds. Print the entered seconds in terms of hours, minutes, and seconds.\n",
    "\n",
    "For example: \n",
    "- If the user enters 19520 seconds, the output should be \"5 hours, 25 minutes, 20 seconds\"."
   ]
  },
  {
   "cell_type": "code",
   "execution_count": 9,
   "metadata": {},
   "outputs": [
    {
     "name": "stdout",
     "output_type": "stream",
     "text": [
      "0 hours, 42 minutes, 43 seconds\n"
     ]
    }
   ],
   "source": [
    "total_seconds = int(input(\"Enter the number of seconds: \"))\n",
    "\n",
    "hours = total_seconds // 3600 # calculates how many hours fit into the total seconds  \n",
    "total_seconds %= 3600  # finds the total_seconds remaining that do not fully fit into hours, that is less than 3600      \n",
    "minutes = total_seconds // 60   # finds how many minutes fit into the updated total_score\n",
    "seconds = total_seconds % 60    # reminder will be equal to seconds, that is less than 60       \n",
    "\n",
    "print(hours, 'hours,', minutes, 'minutes,', seconds, 'seconds') "
   ]
  },
  {
   "cell_type": "code",
   "execution_count": null,
   "metadata": {},
   "outputs": [],
   "source": []
  }
 ],
 "metadata": {
  "kernelspec": {
   "display_name": "base",
   "language": "python",
   "name": "python3"
  },
  "language_info": {
   "codemirror_mode": {
    "name": "ipython",
    "version": 3
   },
   "file_extension": ".py",
   "mimetype": "text/x-python",
   "name": "python",
   "nbconvert_exporter": "python",
   "pygments_lexer": "ipython3",
   "version": "3.10.9"
  },
  "orig_nbformat": 4
 },
 "nbformat": 4,
 "nbformat_minor": 2
}
