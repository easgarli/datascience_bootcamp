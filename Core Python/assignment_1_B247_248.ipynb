{
 "cells": [
  {
   "cell_type": "markdown",
   "metadata": {},
   "source": [
    "1 - Kullanıcıdan input ile iki veri alın. Bu veriler tamsayı ise çarpımını yazdırın. "
   ]
  },
  {
   "cell_type": "code",
   "execution_count": 3,
   "metadata": {},
   "outputs": [
    {
     "name": "stdout",
     "output_type": "stream",
     "text": [
      "1138\n"
     ]
    }
   ],
   "source": [
    "a = float(input(\"Please, enter a number: \"))\n",
    "b = float(input(\"Please, enter another number: \"))\n",
    "c = int(a*b)\n",
    "print(c)"
   ]
  },
  {
   "cell_type": "markdown",
   "metadata": {},
   "source": [
    "2 - Kullanıcıdan bir sayı isteyin. Sayı tek ise 2 katını çift ise karesini yazdırın. "
   ]
  },
  {
   "cell_type": "code",
   "execution_count": 6,
   "metadata": {},
   "outputs": [
    {
     "name": "stdout",
     "output_type": "stream",
     "text": [
      "21.0\n"
     ]
    }
   ],
   "source": [
    "a = float(input(\"Please, enter a number: \"))\n",
    "if a % 2 == 0:\n",
    "    print(a**2)\n",
    "else:\n",
    "    print(a*2)"
   ]
  },
  {
   "cell_type": "markdown",
   "metadata": {},
   "source": [
    "3 - Kullanıcıdan iki tam sayı isteyin. Sayılar eşitse veya sayıların farkı 5 in katı ise True döndüren algoritmayı yazın. Aksi taktirde False çıktısı almalısınız"
   ]
  },
  {
   "cell_type": "code",
   "execution_count": 8,
   "metadata": {},
   "outputs": [
    {
     "name": "stdout",
     "output_type": "stream",
     "text": [
      "True\n"
     ]
    }
   ],
   "source": [
    "a = int(input(\"Please, enter an integer: \"))\n",
    "b = int(input(\"Please, enter another integer: \"))\n",
    "if a==b or (a-b)%5 == 0:\n",
    "    print(True)\n",
    "else:\n",
    "    print(False)"
   ]
  },
  {
   "cell_type": "markdown",
   "metadata": {},
   "source": [
    "4 - Kullanıcıya sınavdan aldığı notu sorunuz. Denk gelen Harf notunu yazdırın. 0-100 aralığı        dışında girilen notların geçersiz olduğuu belirtmeyi unutmayın. \n",
    "    80 - 100 aralığı \"A\",\n",
    "    65 - 79 aralığı \"B\",\n",
    "    55 - 64 aralığı \"C\",\n",
    "    35 - 54 aralığı \"D\",\n",
    "    0 - 34 aralığı \"F\""
   ]
  },
  {
   "cell_type": "code",
   "execution_count": 14,
   "metadata": {},
   "outputs": [
    {
     "name": "stdout",
     "output_type": "stream",
     "text": [
      "Your letter score is F\n"
     ]
    }
   ],
   "source": [
    "a = int(input(\"Please, enter your score exam in the interval of 0-100: \"))\n",
    "if a < 0 or a >100:\n",
    "    print(\"The scores out of 1-100 interval are not valid.\")\n",
    "elif a <= 100 and a >= 80:\n",
    "    print (\"Your letter score is: A\")\n",
    "elif a <= 79 and a >= 65:\n",
    "    print (\"Your letter score is: B\")\n",
    "elif a <= 64 and a >= 55:\n",
    "    print (\"Your letter score is: C\")\n",
    "elif a <= 54 and a >= 35:\n",
    "    print (\"Your letter score is: D\")\n",
    "else:\n",
    "    print(\"Your letter score is F\")"
   ]
  },
  {
   "cell_type": "markdown",
   "metadata": {},
   "source": [
    "5 - Kullanıcıdan bir saniye değeri girmesini isteyin. girilen saniyeyi saat dakika ve sn cinsinden yazdırın. \n",
    "örn: 19520 sn >> 5 saat, 25 dk, 20 saniye "
   ]
  },
  {
   "cell_type": "code",
   "execution_count": 26,
   "metadata": {},
   "outputs": [
    {
     "name": "stdout",
     "output_type": "stream",
     "text": [
      "2 hours, 28 minutes, 20 seconds\n"
     ]
    }
   ],
   "source": [
    "total_seconds = int(input(\"Enter the number of seconds: \"))\n",
    "\n",
    "hours = total_seconds // 3600 # calculates how many hours fit into the total seconds  \n",
    "total_seconds %= 3600  # updates the total_seconds as the reminder of the division       \n",
    "minutes = total_seconds // 60   # finds how many minutes fit into the updated total_score\n",
    "seconds = total_seconds % 60    # reminder will be equal to seconds        \n",
    "\n",
    "# Print the result in a formatted way\n",
    "print(f\"{hours} hours, {minutes} minutes, {seconds} seconds\") \n"
   ]
  },
  {
   "cell_type": "code",
   "execution_count": null,
   "metadata": {},
   "outputs": [],
   "source": []
  }
 ],
 "metadata": {
  "kernelspec": {
   "display_name": "base",
   "language": "python",
   "name": "python3"
  },
  "language_info": {
   "codemirror_mode": {
    "name": "ipython",
    "version": 3
   },
   "file_extension": ".py",
   "mimetype": "text/x-python",
   "name": "python",
   "nbconvert_exporter": "python",
   "pygments_lexer": "ipython3",
   "version": "3.11.7"
  },
  "orig_nbformat": 4
 },
 "nbformat": 4,
 "nbformat_minor": 2
}
