{
 "cells": [
  {
   "cell_type": "code",
   "execution_count": 1,
   "metadata": {},
   "outputs": [
    {
     "name": "stdout",
     "output_type": "stream",
     "text": [
      "this is example1 line 1\n",
      "this is example1 line 2\n",
      "this is example1 line 3\n"
     ]
    }
   ],
   "source": [
    "with open('example1.txt','r') as readfile:\n",
    "    content = readfile.read()\n",
    "print(content)"
   ]
  },
  {
   "cell_type": "code",
   "execution_count": 9,
   "metadata": {},
   "outputs": [
    {
     "name": "stdout",
     "output_type": "stream",
     "text": [
      "0\n",
      "1\n",
      "2\n"
     ]
    }
   ],
   "source": [
    "with open('example1.txt','r') as readfile:\n",
    "    for i in range(len(readfile.readlines())):\n",
    "        print(i)\n"
   ]
  },
  {
   "cell_type": "code",
   "execution_count": 11,
   "metadata": {},
   "outputs": [],
   "source": [
    "# Create a new file Example3.txt for writing\n",
    "with open('Example3.txt', 'w') as file1:\n",
    "    file1.write(\"This is line 1 A\\n\")\n",
    "    file1.write(\"This is line 2 B\\n\")\n",
    "    # file1 is automatically closed when the 'with' block exits"
   ]
  },
  {
   "cell_type": "code",
   "execution_count": 15,
   "metadata": {},
   "outputs": [],
   "source": [
    "# List of lines to write to the file\n",
    "Lines = [\"This is line 1\", \"This is line 2\", \"This is line 3\"]\n",
    "\n",
    "with open('Example3.txt', 'w') as file2:\n",
    "    for line in Lines:\n",
    "        file2.write(line + \"\\n\")"
   ]
  },
  {
   "cell_type": "code",
   "execution_count": 17,
   "metadata": {},
   "outputs": [],
   "source": [
    "new_data = \"This is a new line\"\n",
    "\n",
    "with open('Example3.txt', 'a') as file3:\n",
    "    file3.write(new_data + \"\\n\")"
   ]
  },
  {
   "cell_type": "code",
   "execution_count": 21,
   "metadata": {},
   "outputs": [],
   "source": [
    "with open('example1.txt','r') as readfile:\n",
    "    with open('example2.txt', 'a') as copyfile:\n",
    "        for line in readfile:\n",
    "            copyfile.write(line + \"\\n\")"
   ]
  },
  {
   "cell_type": "code",
   "execution_count": 28,
   "metadata": {},
   "outputs": [
    {
     "name": "stdout",
     "output_type": "stream",
     "text": [
      "['this is example1 line 1\\n', 'this is example1 line 2\\n', 'this is example1 line 3this is example1 line 1\\n', 'this is example1 line 2\\n', 'this is example1 line 3this is example1 line 1\\n', '\\n', 'this is example1 line 2\\n', '\\n', 'this is example1 line 3\\n', '\\n', 'Salam']\n"
     ]
    }
   ],
   "source": [
    "with open('example2.txt', 'r+') as file:\n",
    "    file.write(\"\\n\" + \"Salam\")\n",
    "    content = file.readlines()\n",
    "print(content)"
   ]
  },
  {
   "cell_type": "code",
   "execution_count": null,
   "metadata": {},
   "outputs": [],
   "source": []
  }
 ],
 "metadata": {
  "kernelspec": {
   "display_name": "base",
   "language": "python",
   "name": "python3"
  },
  "language_info": {
   "codemirror_mode": {
    "name": "ipython",
    "version": 3
   },
   "file_extension": ".py",
   "mimetype": "text/x-python",
   "name": "python",
   "nbconvert_exporter": "python",
   "pygments_lexer": "ipython3",
   "version": "3.11.7"
  }
 },
 "nbformat": 4,
 "nbformat_minor": 2
}
