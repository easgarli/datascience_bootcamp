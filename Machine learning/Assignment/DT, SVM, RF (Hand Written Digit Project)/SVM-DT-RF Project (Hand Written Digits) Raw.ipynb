{
 "cells": [
  {
   "cell_type": "markdown",
   "id": "7447c459",
   "metadata": {},
   "source": [
    "# <p style=\"background-color:green;font-family:newtimeroman;font-size:200%;color:white;text-align:center;border-radius:20px 20px;\"><b>Capstone Project-5 (Hand_Written_Digits)</b></p>\n",
    "![](https://www.techproeducation.com/logo/headerlogo.svg)\n",
    "\n",
    "<b>If you want to be the first to know about the updates, please don't forget to follow us </b>[YouTube](https://www.youtube.com/c/techproeducation) | [Instagram](https://www.instagram.com/techproeducation) | [Facebook](https://www.facebook.com/techproeducation) | [Telegram](https://t.me/joinchat/HH2qRvA-ulh4OWbb) | [WhatsApp](https://api.whatsapp.com/send/?phone=%2B15853042959&text&type=phone_number&app_absent=0) | [LinkedIn](https://www.linkedin.com/company/techproeducation/mycompany/) |"
   ]
  },
  {
   "cell_type": "markdown",
   "id": "6608d87a-1718-4198-aa94-5018bed4a106",
   "metadata": {
    "id": "6608d87a-1718-4198-aa94-5018bed4a106"
   },
   "source": [
    "# Hand Written Digits Project"
   ]
  },
  {
   "cell_type": "markdown",
   "id": "a5aac519",
   "metadata": {
    "id": "392a02f0-fdda-44ae-a0fc-97f3b03924a9"
   },
   "source": [
    "**Data reference link:**\n",
    "\n",
    "1. [TÜBİTAK Article](https://journals.tubitak.gov.tr/cgi/viewcontent.cgi?article=3717&context=elektrik)\n",
    "2. [UCI Machine Learning Repository: Pen-Based Recognition of Handwritten Digits Dataset](https://archive.ics.uci.edu/dataset/81/pen+based+recognition+of+handwritten+digits)\n",
    "\n",
    "- This is a dataset used to recognize handwritten digits.\n",
    "\n",
    "- The dataset contains scanned images of handwritten digits.\n",
    "\n",
    "- The dataset has a total of 10 classes, with each class representing a digit between 0 and 9.\n",
    "\n",
    "- Data from 44 subjects, with 250 samples each, has been collected.\n",
    "\n",
    "- The dataset includes information about which digit each image represents, in addition to the image data.\n",
    "\n",
    "- This dataset is often used to evaluate the performance of machine learning algorithms in handwriting recognition.\n",
    "\n",
    "- It is also a popular dataset used in the training of deep learning models.\n",
    "\n",
    "**Pen-Based Recognition of Handwritten Digits**\n",
    "\n",
    "- We are creating a digit database by collecting 250 samples from a total of 44 writers. Samples written by 30 writers are used for training, cross-validation, and author-dependent testing, while samples from the remaining 14 writers are used for author-independent testing. This database is also available in UNIPEN format.\n",
    "\n",
    "- We use a WACOM PL-100V pressure-sensitive tablet with an integrated LCD screen and a wireless pen. The input and display areas are located in the same place. This tablet, connected to the serial port of an Intel 486-based computer, allows us to collect handwriting samples. The tablet sends $x$ and $y$ tablet coordinates and pen pressure level values at fixed time intervals of 100 milliseconds (sampling rate).\n",
    "\n",
    "- These writers are asked to write 250 digits in random order in boxes with a resolution of 500 by 500 tablet pixels. The subject is only monitored during the first input screens. Each screen contains five boxes displaying the digits to be written. Subjects are instructed to write only within these boxes. If they make a mistake or are unsatisfied with their writing, they are instructed to clear the contents of a box using a button on the screen. Since most writers are unfamiliar with such input devices, the first ten digits are ignored, although subjects are unaware of this.\n",
    "\n",
    "- In our study, we only use ($x, y$) coordinate data. Pen pressure level values are ignored. First, we apply normalization to make our representation invariant to translations and scale distortions. The raw data from the tablet consists of integer values between 0 and 500 (tablet input box resolution). The new coordinates are adjusted so that the coordinate with the maximum range varies between 0 and 100. Since most characters are taller than they are wide, $x$ generally remains within this range.\n",
    "\n",
    "**Breakdown of values**\n",
    "The **Pen-Digit Dataset** is a collection of data that shows how people write numbers (0 to 9) using a special tablet that can track the pen's movements.\n",
    "\n",
    "- When someone writes a number on this tablet, the **X** and **Y** values show where the pen is on the tablet.\n",
    "- **X** is like the **left-to-right** position of the pen.\n",
    "- **Y** is like the **up-and-down** position of the pen.\n",
    "\n",
    "Imagine you’re writing the number “2” on a piece of paper. As you move your pen, the tablet records **8 different points** of the pen’s movement. Each point has an X value (how far left or right the pen is) and a Y value (how far up or down the pen is).\n",
    "\n",
    "For example:\n",
    "- X1, Y1 could be where you start writing “2.”\n",
    "- X2, Y2 could be the next point as you curve the pen.\n",
    "- And so on, until X8, Y8, which is near the end of writing the “2.”\n",
    "\n",
    "These numbers (X and Y coordinates) help computers understand the shape of the digit you're writing.\n",
    "\n",
    "### Simple Example:\n",
    "- You start writing “2” at the top left corner of the tablet (X1 = 10, Y1 = 80).\n",
    "- You move down a bit (X2 = 12, Y2 = 60).\n",
    "- You curve around (X3 = 30, Y3 = 40), and so on.\n",
    "\n",
    "The computer uses these points to figure out: \"Oh, this looks like a '2'!\"\n",
    "\n",
    "### In summary:\n",
    "- The **X and Y** values are just locations showing where the pen moved while writing a number.\n",
    "- The computer learns from these locations to recognize the digit."
   ]
  },
  {
   "cell_type": "markdown",
   "id": "a589228f-f7be-4c79-94fd-e45cb2c473f4",
   "metadata": {
    "id": "a589228f-f7be-4c79-94fd-e45cb2c473f4",
    "tags": []
   },
   "source": [
    "# Exploratory Data Analysis"
   ]
  },
  {
   "cell_type": "code",
   "execution_count": null,
   "id": "a408cba6",
   "metadata": {},
   "outputs": [],
   "source": []
  },
  {
   "cell_type": "code",
   "execution_count": null,
   "id": "561c7b83",
   "metadata": {},
   "outputs": [],
   "source": []
  },
  {
   "cell_type": "markdown",
   "id": "9dc6e45b",
   "metadata": {
    "id": "9dc6e45b"
   },
   "source": [
    "# Support Vector Machine (SVM) Classifier"
   ]
  },
  {
   "cell_type": "code",
   "execution_count": null,
   "id": "31124f68",
   "metadata": {},
   "outputs": [],
   "source": []
  },
  {
   "cell_type": "code",
   "execution_count": null,
   "id": "45e1cfed",
   "metadata": {},
   "outputs": [],
   "source": []
  },
  {
   "cell_type": "markdown",
   "id": "8c698813",
   "metadata": {},
   "source": [
    "# Decision Tree (DT) Classifier"
   ]
  },
  {
   "cell_type": "code",
   "execution_count": null,
   "id": "41c4a402",
   "metadata": {},
   "outputs": [],
   "source": []
  },
  {
   "cell_type": "code",
   "execution_count": null,
   "id": "e9d68a38",
   "metadata": {},
   "outputs": [],
   "source": []
  },
  {
   "cell_type": "markdown",
   "id": "4e3dcb9c",
   "metadata": {
    "id": "4e3dcb9c"
   },
   "source": [
    "# Random Forest Classifier"
   ]
  },
  {
   "cell_type": "code",
   "execution_count": null,
   "id": "5e7b2239",
   "metadata": {},
   "outputs": [],
   "source": []
  },
  {
   "cell_type": "code",
   "execution_count": null,
   "id": "d0b736b2",
   "metadata": {},
   "outputs": [],
   "source": []
  },
  {
   "cell_type": "markdown",
   "id": "7873dc93",
   "metadata": {},
   "source": [
    "# Choose the Best Model"
   ]
  },
  {
   "cell_type": "code",
   "execution_count": null,
   "id": "d8904e64",
   "metadata": {},
   "outputs": [],
   "source": []
  },
  {
   "cell_type": "code",
   "execution_count": null,
   "id": "5fdaa277",
   "metadata": {},
   "outputs": [],
   "source": []
  },
  {
   "cell_type": "markdown",
   "id": "52aa6306",
   "metadata": {},
   "source": [
    "# <p style=\"background-color:green;font-family:newtimeroman;font-size:200%;color:white;text-align:center;border-radius:20px 20px;\"><b>Congratulations</b></p>\n",
    "![](https://www.techproeducation.com/logo/headerlogo.svg)\n",
    "\n",
    "<b>Yeniliklerden ilk siz haberdar olmak istiyorsanız lütfen bizi takip etmeyi unutmayın </b>[YouTube](https://www.youtube.com/c/techproeducation) | [Instagram](https://www.instagram.com/techproeducation) | [Facebook](https://www.facebook.com/techproeducation) | [Telegram](https://t.me/joinchat/HH2qRvA-ulh4OWbb) | [WhatsApp](https://api.whatsapp.com/send/?phone=%2B15853042959&text&type=phone_number&app_absent=0) | [LinkedIn](https://www.linkedin.com/company/techproeducation/mycompany/) |"
   ]
  }
 ],
 "metadata": {
  "colab": {
   "collapsed_sections": [],
   "name": "Case Study_2_solution-.ipynb",
   "provenance": []
  },
  "hide_input": false,
  "interpreter": {
   "hash": "b91502e98c93ec413571a3c4a71c4e7e2f090119475bdef759aa0802c5125d05"
  },
  "kernelspec": {
   "display_name": "Python 3 (ipykernel)",
   "language": "python",
   "name": "python3"
  },
  "language_info": {
   "codemirror_mode": {
    "name": "ipython",
    "version": 3
   },
   "file_extension": ".py",
   "mimetype": "text/x-python",
   "name": "python",
   "nbconvert_exporter": "python",
   "pygments_lexer": "ipython3",
   "version": "3.11.5"
  },
  "toc": {
   "base_numbering": 1,
   "nav_menu": {},
   "number_sections": true,
   "sideBar": true,
   "skip_h1_title": false,
   "title_cell": "Table of Contents",
   "title_sidebar": "Contents",
   "toc_cell": false,
   "toc_position": {
    "height": "calc(100% - 180px)",
    "left": "10px",
    "top": "150px",
    "width": "384px"
   },
   "toc_section_display": true,
   "toc_window_display": true
  },
  "varInspector": {
   "cols": {
    "lenName": 16,
    "lenType": 16,
    "lenVar": 40
   },
   "kernels_config": {
    "python": {
     "delete_cmd_postfix": "",
     "delete_cmd_prefix": "del ",
     "library": "var_list.py",
     "varRefreshCmd": "print(var_dic_list())"
    },
    "r": {
     "delete_cmd_postfix": ") ",
     "delete_cmd_prefix": "rm(",
     "library": "var_list.r",
     "varRefreshCmd": "cat(var_dic_list()) "
    }
   },
   "types_to_exclude": [
    "module",
    "function",
    "builtin_function_or_method",
    "instance",
    "_Feature"
   ],
   "window_display": false
  }
 },
 "nbformat": 4,
 "nbformat_minor": 5
}
