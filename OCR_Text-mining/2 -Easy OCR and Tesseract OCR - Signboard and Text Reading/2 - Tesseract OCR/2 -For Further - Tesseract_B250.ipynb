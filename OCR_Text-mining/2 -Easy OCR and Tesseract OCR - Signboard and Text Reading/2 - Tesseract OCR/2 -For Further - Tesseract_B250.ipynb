{
 "cells": [
  {
   "cell_type": "markdown",
   "id": "343fbe45",
   "metadata": {},
   "source": [
    "# Tesseract OCR"
   ]
  },
  {
   "cell_type": "markdown",
   "id": "33697ee4",
   "metadata": {},
   "source": [
    "https://www.youtube.com/watch?v=2kWvk4C1pMo - For Install Tesseract OCR\n",
    "\n",
    "https://github.com/tesseract-ocr/tesseract   --- For download the Tessearct OCR\n"
   ]
  },
  {
   "cell_type": "markdown",
   "id": "bfa67def",
   "metadata": {},
   "source": [
    "# Install"
   ]
  },
  {
   "cell_type": "code",
   "execution_count": 1,
   "id": "37f8a32a-187c-4dc5-8ea0-50f92141af81",
   "metadata": {},
   "outputs": [
    {
     "name": "stdout",
     "output_type": "stream",
     "text": [
      "Requirement already satisfied: pytesseract in c:\\users\\ismet\\anaconda3\\lib\\site-packages (0.3.10)\n",
      "Requirement already satisfied: packaging>=21.3 in c:\\users\\ismet\\anaconda3\\lib\\site-packages (from pytesseract) (22.0)\n",
      "Requirement already satisfied: Pillow>=8.0.0 in c:\\users\\ismet\\anaconda3\\lib\\site-packages (from pytesseract) (9.4.0)\n",
      "Note: you may need to restart the kernel to use updated packages.\n"
     ]
    },
    {
     "name": "stderr",
     "output_type": "stream",
     "text": [
      "WARNING: Ignoring invalid distribution -rotobuf (c:\\users\\ismet\\anaconda3\\lib\\site-packages)\n",
      "WARNING: Ignoring invalid distribution -rotobuf (c:\\users\\ismet\\anaconda3\\lib\\site-packages)\n",
      "WARNING: Ignoring invalid distribution -rotobuf (c:\\users\\ismet\\anaconda3\\lib\\site-packages)\n",
      "\n",
      "[notice] A new release of pip is available: 24.2 -> 24.3.1\n",
      "[notice] To update, run: python.exe -m pip install --upgrade pip\n"
     ]
    }
   ],
   "source": [
    "pip install pytesseract"
   ]
  },
  {
   "cell_type": "markdown",
   "id": "9c1e3246",
   "metadata": {},
   "source": [
    "# Read data on a figure"
   ]
  },
  {
   "cell_type": "code",
   "execution_count": 2,
   "id": "bce47b7d",
   "metadata": {},
   "outputs": [
    {
     "name": "stdout",
     "output_type": "stream",
     "text": [
      "Extracted Text:\n",
      " EXPECTATIONS\n",
      "\n",
      "Foundation Models\n",
      "-AlAugmented Software Engheering —\n",
      "\n",
      "La\n",
      "\n",
      "Prompt Engineering\n",
      "\n",
      "leData\n",
      "Language Models\n",
      "\n",
      "GenAl Workload Accelerators\n",
      "\n",
      "\\GenAlEnabied Virtual\n",
      "‘Assistants\n",
      "\n",
      "As of September 202\n",
      "\n",
      "Transfer Leaming\n",
      "Generate Al Enabled Apleatons\n",
      "Retiea Augmented Generation\n",
      "angOps —)\n",
      "Matimedal Gena\n",
      "SetiSupervsed Lesmog\n",
      "Open Source LLMs\n",
      "Nadel\n",
      "Anca General iaience\n",
      "‘Seaton\n",
      "Demi\n",
      "RenforcementLearinggh Specie\n",
      "Frembuman Feedback GenAl Models\n",
      "Voctr Databases\n",
      "Autonomous Agents\n",
      "stunts 2% 6en4!Aopletion\n",
      "spe ims” Orchestatn Frameworks\n",
      "Innoveton Peakotinftes\n",
      "Tiger Expectations\n",
      "\n",
      "Plateau wllbereached: © <2yrs. © 2-Syrs. @ 5-10yr.\n",
      "\n",
      "Trough of Slope of\n",
      "Disilusionment Enightenment\n",
      "\n",
      "TIME\n",
      "‘A m1oyrs.  & Obsolete before piateau\n",
      "\n",
      "Plateau of\n",
      "Productivity\n",
      "\n",
      "Gartner\n",
      "\n"
     ]
    }
   ],
   "source": [
    "from PIL import Image\n",
    "import pytesseract\n",
    "import os\n",
    "\n",
    "# Path to the Tesseract executable\n",
    "pytesseract.pytesseract.tesseract_cmd = r'C:\\Program Files\\Tesseract-OCR\\tesseract.exe'\n",
    "\n",
    "# Path to the 'tessdata' directory\n",
    "tessdata_path = r'C:\\Program Files\\Tesseract-OCR\\tessdata'\n",
    "\n",
    "# Specify the path to the image\n",
    "image_path = 'gen_ai_hc_2023.png'\n",
    "\n",
    "# Set the 'TESSDATA_PREFIX' environment variable for this script\n",
    "os.environ['TESSDATA_PREFIX'] = tessdata_path\n",
    "\n",
    "# Open the image using Pillow\n",
    "img = Image.open(image_path)\n",
    "\n",
    "# Perform OCR\n",
    "text = pytesseract.image_to_string(img)\n",
    "\n",
    "# Print the extracted text\n",
    "print(\"Extracted Text:\\n\", text)"
   ]
  },
  {
   "cell_type": "markdown",
   "id": "368b901d",
   "metadata": {},
   "source": [
    "# Read a Letter"
   ]
  },
  {
   "cell_type": "code",
   "execution_count": 3,
   "id": "9ff81ffc",
   "metadata": {},
   "outputs": [
    {
     "name": "stdout",
     "output_type": "stream",
     "text": [
      "Extracted Text:\n",
      " Sector 17\n",
      "Vashi\n",
      "‘New Bombay\n",
      "\n",
      "6th July. 2013,\n",
      "\n",
      "Dear Maya\n",
      "\n",
      "Thank you very much for your last letter. It was great to hear\n",
      "from you after so many months. You seem to be having a\n",
      "nice time in France.\n",
      "\n",
      "Thanks also for the photographs. I absolutely loved that snap\n",
      "of yours standing in front of the Eiffel Tower. France looks\n",
      "stunning. Someday, I would definitely le to go there.\n",
      "\n",
      "There’s not much happening here. I am busy with my work\n",
      "and kids.\n",
      "\n",
      "By the way, are you coming home anytime soon? If you are,\n",
      "let me know the dates and we can arrange to meet up.\n",
      "\n",
      "Hope to see you soon!\n",
      "\n",
      "\n"
     ]
    }
   ],
   "source": [
    "from PIL import Image\n",
    "import pytesseract\n",
    "import os\n",
    "\n",
    "# Path to the Tesseract executable\n",
    "pytesseract.pytesseract.tesseract_cmd = r'C:\\Program Files\\Tesseract-OCR\\tesseract.exe'\n",
    "\n",
    "# Path to the 'tessdata' directory\n",
    "tessdata_path = r'C:\\Program Files\\Tesseract-OCR\\tessdata'\n",
    "\n",
    "# Specify the path to the image\n",
    "image_path = 'letter.gif'\n",
    "\n",
    "# Set the 'TESSDATA_PREFIX' environment variable for this script\n",
    "os.environ['TESSDATA_PREFIX'] = tessdata_path\n",
    "\n",
    "# Open the image using Pillow\n",
    "img = Image.open(image_path)\n",
    "\n",
    "# Perform OCR\n",
    "text = pytesseract.image_to_string(img)\n",
    "\n",
    "# Print the extracted text\n",
    "print(\"Extracted Text:\\n\", text)\n"
   ]
  },
  {
   "cell_type": "code",
   "execution_count": 6,
   "id": "745aefb2",
   "metadata": {},
   "outputs": [
    {
     "name": "stdout",
     "output_type": "stream",
     "text": [
      "Extracted Text:\n",
      " TS setts\n",
      "k Palwal t Aligarh t\n",
      "53 Km 74 Km\n",
      "\n",
      "\n"
     ]
    }
   ],
   "source": [
    "from PIL import Image\n",
    "import pytesseract\n",
    "import os\n",
    "\n",
    "# Path to the Tesseract executable\n",
    "pytesseract.pytesseract.tesseract_cmd = r'C:\\Program Files\\Tesseract-OCR\\tesseract.exe'\n",
    "\n",
    "# Path to the 'tessdata' directory\n",
    "tessdata_path = r'C:\\Program Files\\Tesseract-OCR\\tessdata'\n",
    "\n",
    "# Specify the path to the image\n",
    "image_path = 'thumb---road-sign-board_5307.jpg'\n",
    "\n",
    "# Set the 'TESSDATA_PREFIX' environment variable for this script\n",
    "os.environ['TESSDATA_PREFIX'] = tessdata_path\n",
    "\n",
    "# Open the image using Pillow\n",
    "img = Image.open(image_path)\n",
    "\n",
    "# Perform OCR\n",
    "text = pytesseract.image_to_string(img)\n",
    "\n",
    "# Print the extracted text\n",
    "print(\"Extracted Text:\\n\", text)"
   ]
  },
  {
   "cell_type": "code",
   "execution_count": null,
   "id": "bcdfe377",
   "metadata": {},
   "outputs": [],
   "source": [
    "# DONE"
   ]
  }
 ],
 "metadata": {
  "hide_input": false,
  "kernelspec": {
   "display_name": "Python 3 (ipykernel)",
   "language": "python",
   "name": "python3"
  },
  "language_info": {
   "codemirror_mode": {
    "name": "ipython",
    "version": 3
   },
   "file_extension": ".py",
   "mimetype": "text/x-python",
   "name": "python",
   "nbconvert_exporter": "python",
   "pygments_lexer": "ipython3",
   "version": "3.10.9"
  },
  "toc": {
   "base_numbering": 1,
   "nav_menu": {},
   "number_sections": true,
   "sideBar": true,
   "skip_h1_title": false,
   "title_cell": "Table of Contents",
   "title_sidebar": "Contents",
   "toc_cell": false,
   "toc_position": {},
   "toc_section_display": true,
   "toc_window_display": false
  }
 },
 "nbformat": 4,
 "nbformat_minor": 5
}
