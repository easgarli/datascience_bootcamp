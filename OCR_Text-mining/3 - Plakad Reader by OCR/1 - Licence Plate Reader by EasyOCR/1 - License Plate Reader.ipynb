{
 "cells": [
  {
   "cell_type": "markdown",
   "id": "750c006c",
   "metadata": {},
   "source": [
    "# License Plate Reader - OpenANPR "
   ]
  },
  {
   "cell_type": "markdown",
   "id": "1aff6f0c",
   "metadata": {},
   "source": [
    "# By EasyOCR\n",
    "\n",
    "## One Car\n"
   ]
  },
  {
   "cell_type": "code",
   "execution_count": 1,
   "id": "aeba49be",
   "metadata": {},
   "outputs": [
    {
     "name": "stderr",
     "output_type": "stream",
     "text": [
      "Using CPU. Note: This module is much faster with a GPU.\n"
     ]
    },
    {
     "ename": "",
     "evalue": "",
     "output_type": "error",
     "traceback": [
      "\u001b[1;31mThe Kernel crashed while executing code in the current cell or a previous cell. \n",
      "\u001b[1;31mPlease review the code in the cell(s) to identify a possible cause of the failure. \n",
      "\u001b[1;31mClick <a href='https://aka.ms/vscodeJupyterKernelCrash'>here</a> for more info. \n",
      "\u001b[1;31mView Jupyter <a href='command:jupyter.viewOutput'>log</a> for further details."
     ]
    }
   ],
   "source": [
    "import easyocr\n",
    "import cv2\n",
    "import matplotlib.pyplot as plt\n",
    "\n",
    "# Initialize EasyOCR reader\n",
    "reader = easyocr.Reader(['en'], gpu=False)\n",
    "\n",
    "# Load image of the car plate\n",
    "image_path = 'CarPlate.png'  # Change to your image file\n",
    "image = cv2.imread(image_path)\n",
    "image_rgb = cv2.cvtColor(image, cv2.COLOR_BGR2RGB)\n",
    "\n",
    "# Perform OCR on the car plate image\n",
    "results = reader.readtext(image_path, detail=1, paragraph=True)\n",
    "\n",
    "# Display OCR results\n",
    "print(\"Detected License Plate Text:\\n\")\n",
    "for i, (bbox, text) in enumerate(results, 1):\n",
    "    print(f\"Text {i}: {text}\")\n",
    "\n",
    "# Display the image and detected text\n",
    "fig, ax = plt.subplots(1, 1, figsize=(8, 4))\n",
    "ax.imshow(image_rgb)\n",
    "for (bbox, text) in results:\n",
    "    # Draw bounding box around detected text\n",
    "    top_left = tuple([int(val) for val in bbox[0]])\n",
    "    bottom_right = tuple([int(val) for val in bbox[2]])\n",
    "    cv2.rectangle(image_rgb, top_left, bottom_right, (0, 255, 0), 2)\n",
    "    ax.text(top_left[0], top_left[1] - 10, text, color='green', fontsize=12, weight=\"bold\")\n",
    "\n",
    "ax.axis(\"off\")\n",
    "plt.show()\n"
   ]
  },
  {
   "cell_type": "markdown",
   "id": "fc3eac04",
   "metadata": {},
   "source": [
    "## More Car Plate --> Read and Export to an Excel"
   ]
  },
  {
   "cell_type": "code",
   "execution_count": 2,
   "id": "f520a834",
   "metadata": {},
   "outputs": [
    {
     "name": "stderr",
     "output_type": "stream",
     "text": [
      "Using CPU. Note: This module is much faster with a GPU.\n"
     ]
    },
    {
     "ename": "",
     "evalue": "",
     "output_type": "error",
     "traceback": [
      "\u001b[1;31mThe Kernel crashed while executing code in the current cell or a previous cell. \n",
      "\u001b[1;31mPlease review the code in the cell(s) to identify a possible cause of the failure. \n",
      "\u001b[1;31mClick <a href='https://aka.ms/vscodeJupyterKernelCrash'>here</a> for more info. \n",
      "\u001b[1;31mView Jupyter <a href='command:jupyter.viewOutput'>log</a> for further details."
     ]
    }
   ],
   "source": [
    "import easyocr\n",
    "import cv2\n",
    "import matplotlib.pyplot as plt\n",
    "import os\n",
    "import pandas as pd\n",
    "\n",
    "# Initialize EasyOCR reader\n",
    "reader = easyocr.Reader(['en'], gpu=False)\n",
    "\n",
    "# Directory containing car images\n",
    "image_folder = 'Cars'  # Change this to your folder path\n",
    "output_file = 'detected_plates.xlsx'\n",
    "\n",
    "# List to store results\n",
    "data = []\n",
    "\n",
    "# Process each image in the folder\n",
    "for image_file in os.listdir(image_folder):\n",
    "    image_path = os.path.join(image_folder, image_file)\n",
    "    if image_path.lower().endswith(('.png', '.jpg', '.jpeg')):  # Check for valid image extensions\n",
    "        # Load and process image\n",
    "        image = cv2.imread(image_path)\n",
    "        image_rgb = cv2.cvtColor(image, cv2.COLOR_BGR2RGB)\n",
    "\n",
    "        # Perform OCR on the image\n",
    "        results = reader.readtext(image_path, detail=1, paragraph=True)\n",
    "\n",
    "        # Collect detected text\n",
    "        plate_texts = [text for bbox, text in results]\n",
    "        print(f\"Detected License Plate Text for {image_file}:\\n\", plate_texts)\n",
    "\n",
    "        # Add to data list\n",
    "        data.append({'Image': image_file, 'Detected Plate Text': ' '.join(plate_texts)})\n",
    "\n",
    "        # Optionally, display the image and bounding boxes (uncomment if needed)\n",
    "        # fig, ax = plt.subplots(1, 1, figsize=(8, 4))\n",
    "        # ax.imshow(image_rgb)\n",
    "        # for bbox, text in results:\n",
    "        #     top_left = tuple([int(val) for val in bbox[0]])\n",
    "        #     bottom_right = tuple([int(val) for val in bbox[2]])\n",
    "        #     cv2.rectangle(image_rgb, top_left, bottom_right, (0, 255, 0), 2)\n",
    "        #     ax.text(top_left[0], top_left[1] - 10, text, color='green', fontsize=12, weight=\"bold\")\n",
    "        # ax.axis(\"off\")\n",
    "        # plt.show()\n",
    "\n",
    "# Create a DataFrame and save to Excel\n",
    "df = pd.DataFrame(data)\n",
    "df.to_excel(output_file, index=False)\n",
    "print(f\"Results saved to {output_file}\")\n"
   ]
  },
  {
   "cell_type": "code",
   "execution_count": null,
   "id": "5dacf091",
   "metadata": {},
   "outputs": [],
   "source": []
  },
  {
   "cell_type": "code",
   "execution_count": null,
   "id": "a41901eb",
   "metadata": {},
   "outputs": [],
   "source": []
  },
  {
   "cell_type": "markdown",
   "id": "d8cd0f9a",
   "metadata": {},
   "source": [
    "## By OpenALPR"
   ]
  },
  {
   "cell_type": "code",
   "execution_count": 2,
   "id": "d28d7b36",
   "metadata": {},
   "outputs": [],
   "source": [
    "import warnings\n",
    "\n",
    "# Suppress warnings\n",
    "warnings.filterwarnings(\"ignore\")"
   ]
  },
  {
   "cell_type": "code",
   "execution_count": 1,
   "id": "f07e6587",
   "metadata": {},
   "outputs": [
    {
     "name": "stdout",
     "output_type": "stream",
     "text": [
      "Collecting openalpr\n",
      "  Obtaining dependency information for openalpr from https://files.pythonhosted.org/packages/32/f1/b7083356f03d27839dd8ddcfa00d0db6fa0d65586c93cb394b8ecb3f069c/openalpr-1.1.0-py3-none-any.whl.metadata\n",
      "  Downloading openalpr-1.1.0-py3-none-any.whl.metadata (1.6 kB)\n",
      "Downloading openalpr-1.1.0-py3-none-any.whl (6.2 kB)\n",
      "Installing collected packages: openalpr\n",
      "Successfully installed openalpr-1.1.0\n"
     ]
    }
   ],
   "source": [
    "!pip install openalpr"
   ]
  },
  {
   "cell_type": "code",
   "execution_count": 2,
   "id": "25c34193",
   "metadata": {},
   "outputs": [
    {
     "ename": "OSError",
     "evalue": "Unable to locate the OpenALPR library. Please make sure that OpenALPR is properly installed on your system and that the libraries are in the appropriate paths.",
     "output_type": "error",
     "traceback": [
      "\u001b[0;31m---------------------------------------------------------------------------\u001b[0m",
      "\u001b[0;31mOSError\u001b[0m                                   Traceback (most recent call last)",
      "File \u001b[0;32m~/anaconda3/lib/python3.11/site-packages/openalpr/openalpr.py:74\u001b[0m, in \u001b[0;36mAlpr.__init__\u001b[0;34m(self, country, config_file, runtime_dir, license_key, use_gpu, gpu_id, gpu_batch_size)\u001b[0m\n\u001b[1;32m     73\u001b[0m     \u001b[38;5;28;01melse\u001b[39;00m:\n\u001b[0;32m---> 74\u001b[0m         \u001b[38;5;28mself\u001b[39m\u001b[38;5;241m.\u001b[39m_openalprpy_lib \u001b[38;5;241m=\u001b[39m ctypes\u001b[38;5;241m.\u001b[39mcdll\u001b[38;5;241m.\u001b[39mLoadLibrary(\u001b[38;5;124m\"\u001b[39m\u001b[38;5;124mlibopenalpr.so.2\u001b[39m\u001b[38;5;124m\"\u001b[39m)\n\u001b[1;32m     75\u001b[0m \u001b[38;5;28;01mexcept\u001b[39;00m \u001b[38;5;167;01mOSError\u001b[39;00m \u001b[38;5;28;01mas\u001b[39;00m e:\n",
      "File \u001b[0;32m~/anaconda3/lib/python3.11/ctypes/__init__.py:454\u001b[0m, in \u001b[0;36mLibraryLoader.LoadLibrary\u001b[0;34m(self, name)\u001b[0m\n\u001b[1;32m    453\u001b[0m \u001b[38;5;28;01mdef\u001b[39;00m \u001b[38;5;21mLoadLibrary\u001b[39m(\u001b[38;5;28mself\u001b[39m, name):\n\u001b[0;32m--> 454\u001b[0m     \u001b[38;5;28;01mreturn\u001b[39;00m \u001b[38;5;28mself\u001b[39m\u001b[38;5;241m.\u001b[39m_dlltype(name)\n",
      "File \u001b[0;32m~/anaconda3/lib/python3.11/ctypes/__init__.py:376\u001b[0m, in \u001b[0;36mCDLL.__init__\u001b[0;34m(self, name, mode, handle, use_errno, use_last_error, winmode)\u001b[0m\n\u001b[1;32m    375\u001b[0m \u001b[38;5;28;01mif\u001b[39;00m handle \u001b[38;5;129;01mis\u001b[39;00m \u001b[38;5;28;01mNone\u001b[39;00m:\n\u001b[0;32m--> 376\u001b[0m     \u001b[38;5;28mself\u001b[39m\u001b[38;5;241m.\u001b[39m_handle \u001b[38;5;241m=\u001b[39m _dlopen(\u001b[38;5;28mself\u001b[39m\u001b[38;5;241m.\u001b[39m_name, mode)\n\u001b[1;32m    377\u001b[0m \u001b[38;5;28;01melse\u001b[39;00m:\n",
      "\u001b[0;31mOSError\u001b[0m: libopenalpr.so.2: cannot open shared object file: No such file or directory",
      "\nThe above exception was the direct cause of the following exception:\n",
      "\u001b[0;31mOSError\u001b[0m                                   Traceback (most recent call last)",
      "Cell \u001b[0;32mIn[2], line 6\u001b[0m\n\u001b[1;32m      3\u001b[0m \u001b[38;5;28;01mimport\u001b[39;00m \u001b[38;5;21;01mmatplotlib\u001b[39;00m\u001b[38;5;21;01m.\u001b[39;00m\u001b[38;5;21;01mpyplot\u001b[39;00m \u001b[38;5;28;01mas\u001b[39;00m \u001b[38;5;21;01mplt\u001b[39;00m\n\u001b[1;32m      5\u001b[0m \u001b[38;5;66;03m# Initialize OpenALPR\u001b[39;00m\n\u001b[0;32m----> 6\u001b[0m alpr \u001b[38;5;241m=\u001b[39m Alpr(\u001b[38;5;124m\"\u001b[39m\u001b[38;5;124muk\u001b[39m\u001b[38;5;124m\"\u001b[39m, \u001b[38;5;124m\"\u001b[39m\u001b[38;5;124m/path/to/openalpr.conf\u001b[39m\u001b[38;5;124m\"\u001b[39m, \u001b[38;5;124m\"\u001b[39m\u001b[38;5;124m/path/to/runtime_data\u001b[39m\u001b[38;5;124m\"\u001b[39m)  \u001b[38;5;66;03m# Adjust the country code and paths as necessary\u001b[39;00m\n\u001b[1;32m      8\u001b[0m \u001b[38;5;66;03m# Check if ALPR is initialized properly\u001b[39;00m\n\u001b[1;32m      9\u001b[0m \u001b[38;5;28;01mif\u001b[39;00m \u001b[38;5;129;01mnot\u001b[39;00m alpr\u001b[38;5;241m.\u001b[39mis_loaded():\n",
      "File \u001b[0;32m~/anaconda3/lib/python3.11/site-packages/openalpr/openalpr.py:80\u001b[0m, in \u001b[0;36mAlpr.__init__\u001b[0;34m(self, country, config_file, runtime_dir, license_key, use_gpu, gpu_id, gpu_batch_size)\u001b[0m\n\u001b[1;32m     78\u001b[0m     \u001b[38;5;28;01mif\u001b[39;00m _PYTHON_3:\n\u001b[1;32m     79\u001b[0m         nex\u001b[38;5;241m.\u001b[39m__cause__ \u001b[38;5;241m=\u001b[39m e\n\u001b[0;32m---> 80\u001b[0m     \u001b[38;5;28;01mraise\u001b[39;00m nex\n\u001b[1;32m     81\u001b[0m \u001b[38;5;28;01mfinally\u001b[39;00m:\n\u001b[1;32m     82\u001b[0m     mutex\u001b[38;5;241m.\u001b[39mrelease()\n",
      "\u001b[0;31mOSError\u001b[0m: Unable to locate the OpenALPR library. Please make sure that OpenALPR is properly installed on your system and that the libraries are in the appropriate paths."
     ]
    }
   ],
   "source": [
    "from openalpr import Alpr\n",
    "import cv2\n",
    "import matplotlib.pyplot as plt\n",
    "\n",
    "# Initialize OpenALPR\n",
    "alpr = Alpr(\"uk\", \"/path/to/openalpr.conf\", \"/path/to/runtime_data\")  # Adjust the country code and paths as necessary\n",
    "\n",
    "# Check if ALPR is initialized properly\n",
    "if not alpr.is_loaded():\n",
    "    print(\"Error loading OpenALPR\")\n",
    "    exit()\n",
    "\n",
    "# Set options\n",
    "alpr.set_top_n(5)  # Number of potential matches to return\n",
    "alpr.set_default_region(\"us\")  # Set the default region if applicable\n",
    "\n",
    "# Load and display the image\n",
    "image_path = 'CarPlate.png'\n",
    "image = cv2.imread(image_path)\n",
    "image_rgb = cv2.cvtColor(image, cv2.COLOR_BGR2RGB)\n",
    "\n",
    "# Perform ALPR recognition\n",
    "results = alpr.recognize_file(image_path)\n",
    "\n",
    "# Display recognized plate numbers and confidence levels\n",
    "print(\"Detected License Plates:\\n\")\n",
    "for plate in results['results']:\n",
    "    print(\"Plate:\", plate['plate'])\n",
    "    print(\"Confidence:\", plate['confidence'])\n",
    "    print(\"Candidates:\")\n",
    "    for candidate in plate['candidates']:\n",
    "        print(\" - {} (confidence: {:.2f})\".format(candidate['plate'], candidate['confidence']))\n",
    "    print(\"\\n\")\n",
    "\n",
    "# Draw bounding boxes around the plates on the image\n",
    "fig, ax = plt.subplots(1, 1, figsize=(10, 5))\n",
    "ax.imshow(image_rgb)\n",
    "\n",
    "for plate in results['results']:\n",
    "    top_left = (plate['coordinates'][0]['x'], plate['coordinates'][0]['y'])\n",
    "    bottom_right = (plate['coordinates'][2]['x'], plate['coordinates'][2]['y'])\n",
    "    cv2.rectangle(image_rgb, top_left, bottom_right, (0, 255, 0), 2)\n",
    "    ax.text(top_left[0], top_left[1] - 10, plate['plate'], color='green', fontsize=12, weight=\"bold\")\n",
    "\n",
    "ax.axis(\"off\")\n",
    "plt.show()\n",
    "\n",
    "# Unload ALPR after processing\n",
    "alpr.unload()\n"
   ]
  },
  {
   "cell_type": "code",
   "execution_count": 8,
   "id": "ed2c1317",
   "metadata": {},
   "outputs": [
    {
     "ename": "FileNotFoundError",
     "evalue": "Could not find module 'C:\\path\\to\\libopenalpr.dll' (or one of its dependencies). Try using the full path with constructor syntax.",
     "output_type": "error",
     "traceback": [
      "\u001b[1;31m---------------------------------------------------------------------------\u001b[0m",
      "\u001b[1;31mFileNotFoundError\u001b[0m                         Traceback (most recent call last)",
      "Cell \u001b[1;32mIn[8], line 7\u001b[0m\n\u001b[0;32m      4\u001b[0m \u001b[38;5;28;01mimport\u001b[39;00m \u001b[38;5;21;01mmatplotlib\u001b[39;00m\u001b[38;5;21;01m.\u001b[39;00m\u001b[38;5;21;01mpyplot\u001b[39;00m \u001b[38;5;28;01mas\u001b[39;00m \u001b[38;5;21;01mplt\u001b[39;00m\n\u001b[0;32m      6\u001b[0m \u001b[38;5;66;03m# Manually load the libopenalpr.dll using ctypes with full path\u001b[39;00m\n\u001b[1;32m----> 7\u001b[0m \u001b[43mctypes\u001b[49m\u001b[38;5;241;43m.\u001b[39;49m\u001b[43mcdll\u001b[49m\u001b[38;5;241;43m.\u001b[39;49m\u001b[43mLoadLibrary\u001b[49m\u001b[43m(\u001b[49m\u001b[38;5;124;43m\"\u001b[39;49m\u001b[38;5;124;43mC:/path/to/libopenalpr.dll\u001b[39;49m\u001b[38;5;124;43m\"\u001b[39;49m\u001b[43m)\u001b[49m  \u001b[38;5;66;03m# Change this to your actual path\u001b[39;00m\n\u001b[0;32m      9\u001b[0m \u001b[38;5;66;03m# Initialize OpenALPR\u001b[39;00m\n\u001b[0;32m     10\u001b[0m alpr \u001b[38;5;241m=\u001b[39m Alpr(\u001b[38;5;124m\"\u001b[39m\u001b[38;5;124muk\u001b[39m\u001b[38;5;124m\"\u001b[39m, \u001b[38;5;124m\"\u001b[39m\u001b[38;5;124mC:/path/to/openalpr.conf\u001b[39m\u001b[38;5;124m\"\u001b[39m, \u001b[38;5;124m\"\u001b[39m\u001b[38;5;124mC:/path/to/runtime_data\u001b[39m\u001b[38;5;124m\"\u001b[39m)  \u001b[38;5;66;03m# Adjust the country code and paths as necessary\u001b[39;00m\n",
      "File \u001b[1;32m~\\anaconda3\\lib\\ctypes\\__init__.py:452\u001b[0m, in \u001b[0;36mLibraryLoader.LoadLibrary\u001b[1;34m(self, name)\u001b[0m\n\u001b[0;32m    451\u001b[0m \u001b[38;5;28;01mdef\u001b[39;00m \u001b[38;5;21mLoadLibrary\u001b[39m(\u001b[38;5;28mself\u001b[39m, name):\n\u001b[1;32m--> 452\u001b[0m     \u001b[38;5;28;01mreturn\u001b[39;00m \u001b[38;5;28;43mself\u001b[39;49m\u001b[38;5;241;43m.\u001b[39;49m\u001b[43m_dlltype\u001b[49m\u001b[43m(\u001b[49m\u001b[43mname\u001b[49m\u001b[43m)\u001b[49m\n",
      "File \u001b[1;32m~\\anaconda3\\lib\\ctypes\\__init__.py:374\u001b[0m, in \u001b[0;36mCDLL.__init__\u001b[1;34m(self, name, mode, handle, use_errno, use_last_error, winmode)\u001b[0m\n\u001b[0;32m    371\u001b[0m \u001b[38;5;28mself\u001b[39m\u001b[38;5;241m.\u001b[39m_FuncPtr \u001b[38;5;241m=\u001b[39m _FuncPtr\n\u001b[0;32m    373\u001b[0m \u001b[38;5;28;01mif\u001b[39;00m handle \u001b[38;5;129;01mis\u001b[39;00m \u001b[38;5;28;01mNone\u001b[39;00m:\n\u001b[1;32m--> 374\u001b[0m     \u001b[38;5;28mself\u001b[39m\u001b[38;5;241m.\u001b[39m_handle \u001b[38;5;241m=\u001b[39m \u001b[43m_dlopen\u001b[49m\u001b[43m(\u001b[49m\u001b[38;5;28;43mself\u001b[39;49m\u001b[38;5;241;43m.\u001b[39;49m\u001b[43m_name\u001b[49m\u001b[43m,\u001b[49m\u001b[43m \u001b[49m\u001b[43mmode\u001b[49m\u001b[43m)\u001b[49m\n\u001b[0;32m    375\u001b[0m \u001b[38;5;28;01melse\u001b[39;00m:\n\u001b[0;32m    376\u001b[0m     \u001b[38;5;28mself\u001b[39m\u001b[38;5;241m.\u001b[39m_handle \u001b[38;5;241m=\u001b[39m handle\n",
      "\u001b[1;31mFileNotFoundError\u001b[0m: Could not find module 'C:\\path\\to\\libopenalpr.dll' (or one of its dependencies). Try using the full path with constructor syntax."
     ]
    }
   ],
   "source": [
    "import ctypes\n",
    "from openalpr import Alpr\n",
    "import cv2\n",
    "import matplotlib.pyplot as plt\n",
    "\n",
    "# Manually load the libopenalpr.dll using ctypes with full path\n",
    "ctypes.cdll.LoadLibrary(\"C:/path/to/libopenalpr.dll\")  # Change this to your actual path\n",
    "\n",
    "# Initialize OpenALPR\n",
    "alpr = Alpr(\"uk\", \"C:/path/to/openalpr.conf\", \"C:/path/to/runtime_data\")  # Adjust the country code and paths as necessary\n",
    "\n",
    "# Check if ALPR is initialized properly\n",
    "if not alpr.is_loaded():\n",
    "    print(\"Error loading OpenALPR\")\n",
    "    exit()\n",
    "\n",
    "# Set options\n",
    "alpr.set_top_n(5)  # Number of potential matches to return\n",
    "alpr.set_default_region(\"us\")  # Set the default region if applicable\n",
    "\n",
    "# Load and display the image\n",
    "image_path = 'CarPlate.png'\n",
    "image = cv2.imread(image_path)\n",
    "image_rgb = cv2.cvtColor(image, cv2.COLOR_BGR2RGB)\n",
    "\n",
    "# Perform ALPR recognition\n",
    "results = alpr.recognize_file(image_path)\n",
    "\n",
    "# Display recognized plate numbers and confidence levels\n",
    "print(\"Detected License Plates:\\n\")\n",
    "for plate in results['results']:\n",
    "    print(\"Plate:\", plate['plate'])\n",
    "    print(\"Confidence:\", plate['confidence'])\n",
    "    print(\"Candidates:\")\n",
    "    for candidate in plate['candidates']:\n",
    "        print(\" - {} (confidence: {:.2f})\".format(candidate['plate'], candidate['confidence']))\n",
    "    print(\"\\n\")\n",
    "\n",
    "# Draw bounding boxes around the plates on the image\n",
    "fig, ax = plt.subplots(1, 1, figsize=(10, 5))\n",
    "ax.imshow(image_rgb)\n",
    "\n",
    "for plate in results['results']:\n",
    "    top_left = (plate['coordinates'][0]['x'], plate['coordinates'][0]['y'])\n",
    "    bottom_right = (plate['coordinates'][2]['x'], plate['coordinates'][2]['y'])\n",
    "    cv2.rectangle(image_rgb, top_left, bottom_right, (0, 255, 0), 2)\n",
    "    ax.text(top_left[0], top_left[1] - 10, plate['plate'], color='green', fontsize=12, weight=\"bold\")\n",
    "\n",
    "ax.axis(\"off\")\n",
    "plt.show()\n",
    "\n",
    "# Unload ALPR after processing\n",
    "alpr.unload()\n"
   ]
  },
  {
   "cell_type": "code",
   "execution_count": null,
   "id": "05d9df77",
   "metadata": {},
   "outputs": [],
   "source": []
  },
  {
   "cell_type": "code",
   "execution_count": null,
   "id": "cedd980b",
   "metadata": {},
   "outputs": [],
   "source": []
  },
  {
   "cell_type": "code",
   "execution_count": null,
   "id": "69065b7d",
   "metadata": {},
   "outputs": [],
   "source": []
  }
 ],
 "metadata": {
  "kernelspec": {
   "display_name": "base",
   "language": "python",
   "name": "python3"
  },
  "language_info": {
   "codemirror_mode": {
    "name": "ipython",
    "version": 3
   },
   "file_extension": ".py",
   "mimetype": "text/x-python",
   "name": "python",
   "nbconvert_exporter": "python",
   "pygments_lexer": "ipython3",
   "version": "3.11.5"
  },
  "toc": {
   "base_numbering": 1,
   "nav_menu": {},
   "number_sections": true,
   "sideBar": true,
   "skip_h1_title": false,
   "title_cell": "Table of Contents",
   "title_sidebar": "Contents",
   "toc_cell": false,
   "toc_position": {},
   "toc_section_display": true,
   "toc_window_display": false
  }
 },
 "nbformat": 4,
 "nbformat_minor": 5
}
