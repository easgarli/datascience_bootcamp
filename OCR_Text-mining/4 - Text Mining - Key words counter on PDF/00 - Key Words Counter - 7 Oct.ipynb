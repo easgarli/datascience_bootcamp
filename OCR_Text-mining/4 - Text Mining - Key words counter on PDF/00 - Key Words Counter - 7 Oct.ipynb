{
 "cells": [
  {
   "cell_type": "markdown",
   "id": "6c38377e",
   "metadata": {},
   "source": [
    "# Key Words Counter\n",
    "\n",
    "* It counts key words given in a list.\n",
    "\n",
    "* It reads text by using PyMuPDF. It has better performancer than OCR on PDF documents"
   ]
  },
  {
   "cell_type": "code",
   "execution_count": 1,
   "id": "f9cee6bc",
   "metadata": {},
   "outputs": [
    {
     "name": "stdout",
     "output_type": "stream",
     "text": [
      "Excel file successfully created: C:\\Users\\ismet\\OneDrive - University of Strathclyde\\Desktop\\TechPro\\3 - DL\\Ismet\\13 - CV - OCR\\4 - BRUI\\Keyword_counts.xlsx\n"
     ]
    }
   ],
   "source": [
    "import re\n",
    "import os\n",
    "import fitz  # PyMuPDF\n",
    "import pandas as pd\n",
    "\n",
    "# Define uncertainty terms (exact words, no lemmatization)\n",
    "uncertainty_related_words = [\"fear\", \"indecision\", \"instability\", \"jittery\", \"nervousness\", \"precarious\", \"tense\", \n",
    "                             \"tension\", \"uncertain\", \"uncertainly\", \"uncertainty\", \"unclear\", \"unknown\", \"unpredictable\", \n",
    "                             \"unsettled\", \"unstable\", \"volatile\", \"volatility\", \"worry\"]\n",
    "\n",
    "# Folder path containing PDF reports\n",
    "folder_path = r\"C:\\Users\\ismet\\OneDrive - University of Strathclyde\\Desktop\\TechPro\\3 - DL\\Ismet\\13 - CV - OCR\\4 - BRUI\\Reports\"\n",
    "\n",
    "# Create a list to store results\n",
    "results_list = []\n",
    "\n",
    "# Iterate through files in the folder\n",
    "for filename in os.listdir(folder_path):\n",
    "    if filename.endswith(\".pdf\"):\n",
    "        file_path = os.path.join(folder_path, filename)\n",
    "\n",
    "        with fitz.open(file_path) as pdf_file:\n",
    "            text = \"\"\n",
    "            for page in pdf_file:\n",
    "                text += page.get_text()\n",
    "\n",
    "            # Preprocess text for cleaner analysis\n",
    "            text = re.sub(r'\\s+', ' ', text)  # Combine multiple spaces\n",
    "            text = re.sub(r'\\n', ' ', text)   # Replace newlines with spaces\n",
    "            text = ''.join(ch for ch in text if ch.isprintable())  # Remove non-printable characters\n",
    "            text = text.lower()  # Convert entire text to lowercase\n",
    "\n",
    "            # Initialize keyword counts for uncertainty terms\n",
    "            keyword_counts = {word: 0 for word in uncertainty_related_words}\n",
    "\n",
    "            # Count keyword occurrences in the text (including keywords with '-')\n",
    "            for keyword in uncertainty_related_words:\n",
    "                keyword_pattern = re.compile(r'\\b' + re.escape(keyword) + r'\\b', re.IGNORECASE)\n",
    "                keyword_counts[keyword] += len(re.findall(keyword_pattern, text))\n",
    "\n",
    "            # Add results to the list\n",
    "            result = {\n",
    "                \"File\": filename\n",
    "            }\n",
    "            # Add individual keyword counts to result\n",
    "            result.update(keyword_counts)\n",
    "\n",
    "            results_list.append(result)\n",
    "\n",
    "# Convert results list to DataFrame\n",
    "results = pd.DataFrame(results_list)\n",
    "\n",
    "# Get current working directory\n",
    "current_dir = os.getcwd()\n",
    "\n",
    "# Construct output file path\n",
    "excel_file_path = os.path.join(current_dir, \"Keyword_counts.xlsx\")\n",
    "\n",
    "# Save results to Excel file\n",
    "results.to_excel(excel_file_path, index=False)\n",
    "\n",
    "print(\"Excel file successfully created:\", excel_file_path)\n"
   ]
  },
  {
   "cell_type": "code",
   "execution_count": null,
   "id": "1603c1d8",
   "metadata": {},
   "outputs": [],
   "source": []
  }
 ],
 "metadata": {
  "kernelspec": {
   "display_name": "Python 3 (ipykernel)",
   "language": "python",
   "name": "python3"
  },
  "language_info": {
   "codemirror_mode": {
    "name": "ipython",
    "version": 3
   },
   "file_extension": ".py",
   "mimetype": "text/x-python",
   "name": "python",
   "nbconvert_exporter": "python",
   "pygments_lexer": "ipython3",
   "version": "3.10.9"
  },
  "toc": {
   "base_numbering": 1,
   "nav_menu": {},
   "number_sections": true,
   "sideBar": true,
   "skip_h1_title": false,
   "title_cell": "Table of Contents",
   "title_sidebar": "Contents",
   "toc_cell": false,
   "toc_position": {},
   "toc_section_display": true,
   "toc_window_display": false
  }
 },
 "nbformat": 4,
 "nbformat_minor": 5
}
