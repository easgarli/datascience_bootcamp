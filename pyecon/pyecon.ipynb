{
 "cells": [
  {
   "cell_type": "code",
   "execution_count": 23,
   "metadata": {},
   "outputs": [],
   "source": [
    "import numpy as np"
   ]
  },
  {
   "cell_type": "code",
   "execution_count": 22,
   "metadata": {},
   "outputs": [
    {
     "name": "stdout",
     "output_type": "stream",
     "text": [
      "a   b   a and b   a or b   not a\n",
      "--------------------------------\n",
      "0   0      0        0       1\n",
      "0   1      0        1       1\n",
      "1   0      0        1       0\n",
      "1   1      1        1       0\n"
     ]
    }
   ],
   "source": [
    "print(\"a   b   a and b   a or b   not a\\n\"\n",
    "      \"--------------------------------\")\n",
    "\n",
    "for a in [False, True]:\n",
    "    for b in [False, True]:\n",
    "        print(f\"{a:1} {b:3} {a and b:6} {a or b:8} {not a:7}\")"
   ]
  },
  {
   "cell_type": "code",
   "execution_count": 20,
   "metadata": {},
   "outputs": [
    {
     "name": "stdout",
     "output_type": "stream",
     "text": [
      "Elnur      + Elnur\n"
     ]
    }
   ],
   "source": [
    "name = \"Elnur\"\n",
    "print(f'{name:10} + {name:1}')"
   ]
  },
  {
   "cell_type": "code",
   "execution_count": 30,
   "metadata": {},
   "outputs": [
    {
     "data": {
      "text/plain": [
       "array([[ 10.        ,  10.48113134],\n",
       "       [ 10.98541142,  11.51395399],\n",
       "       [ 12.06792641,  12.64855217],\n",
       "       [ 13.25711366,  13.89495494],\n",
       "       [ 14.56348478,  15.26417967],\n",
       "       [ 15.9985872 ,  16.76832937],\n",
       "       [ 17.57510625,  18.42069969],\n",
       "       [ 19.30697729,  20.23589648],\n",
       "       [ 21.20950888,  22.22996483],\n",
       "       [ 23.29951811,  24.42053095],\n",
       "       [ 25.59547923,  26.82695795],\n",
       "       [ 28.11768698,  29.47051703],\n",
       "       [ 30.88843596,  32.37457543],\n",
       "       [ 33.93221772,  35.56480306],\n",
       "       [ 37.2759372 ,  39.06939937],\n",
       "       [ 40.94915062,  42.9193426 ],\n",
       "       [ 44.98432669,  47.14866363],\n",
       "       [ 49.41713361,  51.79474679],\n",
       "       [ 54.28675439,  56.89866029],\n",
       "       [ 59.63623317,  62.50551925],\n",
       "       [ 65.51285569,  68.6648845 ],\n",
       "       [ 71.9685673 ,  75.43120063],\n",
       "       [ 79.06043211,  82.86427729],\n",
       "       [ 86.85113738,  91.0298178 ],\n",
       "       [ 95.40954763, 100.        ]])"
      ]
     },
     "execution_count": 30,
     "metadata": {},
     "output_type": "execute_result"
    }
   ],
   "source": [
    "np.logspace(1, 2).reshape(25,2)"
   ]
  },
  {
   "cell_type": "code",
   "execution_count": null,
   "metadata": {},
   "outputs": [],
   "source": []
  }
 ],
 "metadata": {
  "kernelspec": {
   "display_name": "base",
   "language": "python",
   "name": "python3"
  },
  "language_info": {
   "codemirror_mode": {
    "name": "ipython",
    "version": 3
   },
   "file_extension": ".py",
   "mimetype": "text/x-python",
   "name": "python",
   "nbconvert_exporter": "python",
   "pygments_lexer": "ipython3",
   "version": "3.11.7"
  }
 },
 "nbformat": 4,
 "nbformat_minor": 2
}
